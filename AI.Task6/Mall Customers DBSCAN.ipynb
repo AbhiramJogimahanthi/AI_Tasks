{
 "cells": [
  {
   "cell_type": "markdown",
   "id": "cc61d9a1",
   "metadata": {},
   "source": [
    "## Mall Customer Dataset using DBSCAN"
   ]
  },
  {
   "cell_type": "code",
   "execution_count": 1,
   "id": "be0bbd07",
   "metadata": {},
   "outputs": [],
   "source": [
    "import numpy as np\n",
    "import pandas as pd\n",
    "import matplotlib.pyplot as plt\n",
    "%matplotlib inline\n",
    "import plotly.express as px\n",
    "from sklearn.cluster import DBSCAN\n",
    "from sklearn.preprocessing import StandardScaler"
   ]
  },
  {
   "cell_type": "code",
   "execution_count": 7,
   "id": "8cb04252",
   "metadata": {},
   "outputs": [
    {
     "data": {
      "text/html": [
       "<div>\n",
       "<style scoped>\n",
       "    .dataframe tbody tr th:only-of-type {\n",
       "        vertical-align: middle;\n",
       "    }\n",
       "\n",
       "    .dataframe tbody tr th {\n",
       "        vertical-align: top;\n",
       "    }\n",
       "\n",
       "    .dataframe thead th {\n",
       "        text-align: right;\n",
       "    }\n",
       "</style>\n",
       "<table border=\"1\" class=\"dataframe\">\n",
       "  <thead>\n",
       "    <tr style=\"text-align: right;\">\n",
       "      <th></th>\n",
       "      <th>Gender</th>\n",
       "      <th>Age</th>\n",
       "      <th>Annual Income (k$)</th>\n",
       "      <th>Spending Score (1-100)</th>\n",
       "    </tr>\n",
       "    <tr>\n",
       "      <th>CustomerID</th>\n",
       "      <th></th>\n",
       "      <th></th>\n",
       "      <th></th>\n",
       "      <th></th>\n",
       "    </tr>\n",
       "  </thead>\n",
       "  <tbody>\n",
       "    <tr>\n",
       "      <th>1</th>\n",
       "      <td>Male</td>\n",
       "      <td>19</td>\n",
       "      <td>15</td>\n",
       "      <td>39</td>\n",
       "    </tr>\n",
       "    <tr>\n",
       "      <th>2</th>\n",
       "      <td>Male</td>\n",
       "      <td>21</td>\n",
       "      <td>15</td>\n",
       "      <td>81</td>\n",
       "    </tr>\n",
       "    <tr>\n",
       "      <th>3</th>\n",
       "      <td>Female</td>\n",
       "      <td>20</td>\n",
       "      <td>16</td>\n",
       "      <td>6</td>\n",
       "    </tr>\n",
       "    <tr>\n",
       "      <th>4</th>\n",
       "      <td>Female</td>\n",
       "      <td>23</td>\n",
       "      <td>16</td>\n",
       "      <td>77</td>\n",
       "    </tr>\n",
       "    <tr>\n",
       "      <th>5</th>\n",
       "      <td>Female</td>\n",
       "      <td>31</td>\n",
       "      <td>17</td>\n",
       "      <td>40</td>\n",
       "    </tr>\n",
       "  </tbody>\n",
       "</table>\n",
       "</div>"
      ],
      "text/plain": [
       "            Gender  Age  Annual Income (k$)  Spending Score (1-100)\n",
       "CustomerID                                                         \n",
       "1             Male   19                  15                      39\n",
       "2             Male   21                  15                      81\n",
       "3           Female   20                  16                       6\n",
       "4           Female   23                  16                      77\n",
       "5           Female   31                  17                      40"
      ]
     },
     "execution_count": 7,
     "metadata": {},
     "output_type": "execute_result"
    }
   ],
   "source": [
    "df = pd.read_csv('Downloads\\Mall_Customers.csv', index_col=0)\n",
    "df.head()"
   ]
  },
  {
   "cell_type": "code",
   "execution_count": 8,
   "id": "aee0c4fc",
   "metadata": {},
   "outputs": [
    {
     "name": "stdout",
     "output_type": "stream",
     "text": [
      "Gender                    0\n",
      "Age                       0\n",
      "Annual Income (k$)        0\n",
      "Spending Score (1-100)    0\n",
      "dtype: int64\n"
     ]
    }
   ],
   "source": [
    "print(df.isnull().sum())"
   ]
  },
  {
   "cell_type": "code",
   "execution_count": 9,
   "id": "f5ac5627",
   "metadata": {},
   "outputs": [
    {
     "data": {
      "text/html": [
       "<div>\n",
       "<style scoped>\n",
       "    .dataframe tbody tr th:only-of-type {\n",
       "        vertical-align: middle;\n",
       "    }\n",
       "\n",
       "    .dataframe tbody tr th {\n",
       "        vertical-align: top;\n",
       "    }\n",
       "\n",
       "    .dataframe thead th {\n",
       "        text-align: right;\n",
       "    }\n",
       "</style>\n",
       "<table border=\"1\" class=\"dataframe\">\n",
       "  <thead>\n",
       "    <tr style=\"text-align: right;\">\n",
       "      <th></th>\n",
       "      <th>Annual Income (k$)</th>\n",
       "      <th>Spending Score (1-100)</th>\n",
       "    </tr>\n",
       "    <tr>\n",
       "      <th>CustomerID</th>\n",
       "      <th></th>\n",
       "      <th></th>\n",
       "    </tr>\n",
       "  </thead>\n",
       "  <tbody>\n",
       "    <tr>\n",
       "      <th>1</th>\n",
       "      <td>15</td>\n",
       "      <td>39</td>\n",
       "    </tr>\n",
       "    <tr>\n",
       "      <th>2</th>\n",
       "      <td>15</td>\n",
       "      <td>81</td>\n",
       "    </tr>\n",
       "    <tr>\n",
       "      <th>3</th>\n",
       "      <td>16</td>\n",
       "      <td>6</td>\n",
       "    </tr>\n",
       "    <tr>\n",
       "      <th>4</th>\n",
       "      <td>16</td>\n",
       "      <td>77</td>\n",
       "    </tr>\n",
       "    <tr>\n",
       "      <th>5</th>\n",
       "      <td>17</td>\n",
       "      <td>40</td>\n",
       "    </tr>\n",
       "  </tbody>\n",
       "</table>\n",
       "</div>"
      ],
      "text/plain": [
       "            Annual Income (k$)  Spending Score (1-100)\n",
       "CustomerID                                            \n",
       "1                           15                      39\n",
       "2                           15                      81\n",
       "3                           16                       6\n",
       "4                           16                      77\n",
       "5                           17                      40"
      ]
     },
     "execution_count": 9,
     "metadata": {},
     "output_type": "execute_result"
    }
   ],
   "source": [
    "df.drop(['Gender'], axis=1, inplace=True)\n",
    "df.drop(['Age'], axis=1, inplace=True)\n",
    "df.head()"
   ]
  },
  {
   "cell_type": "code",
   "execution_count": 12,
   "id": "996295a1",
   "metadata": {},
   "outputs": [
    {
     "data": {
      "text/html": [
       "<div>\n",
       "<style scoped>\n",
       "    .dataframe tbody tr th:only-of-type {\n",
       "        vertical-align: middle;\n",
       "    }\n",
       "\n",
       "    .dataframe tbody tr th {\n",
       "        vertical-align: top;\n",
       "    }\n",
       "\n",
       "    .dataframe thead th {\n",
       "        text-align: right;\n",
       "    }\n",
       "</style>\n",
       "<table border=\"1\" class=\"dataframe\">\n",
       "  <thead>\n",
       "    <tr style=\"text-align: right;\">\n",
       "      <th></th>\n",
       "      <th>Annual Income (k$)</th>\n",
       "      <th>Spending Score (1-100)</th>\n",
       "    </tr>\n",
       "    <tr>\n",
       "      <th>CustomerID</th>\n",
       "      <th></th>\n",
       "      <th></th>\n",
       "    </tr>\n",
       "  </thead>\n",
       "  <tbody>\n",
       "    <tr>\n",
       "      <th>180</th>\n",
       "      <td>93</td>\n",
       "      <td>90</td>\n",
       "    </tr>\n",
       "    <tr>\n",
       "      <th>57</th>\n",
       "      <td>44</td>\n",
       "      <td>50</td>\n",
       "    </tr>\n",
       "    <tr>\n",
       "      <th>111</th>\n",
       "      <td>63</td>\n",
       "      <td>52</td>\n",
       "    </tr>\n",
       "    <tr>\n",
       "      <th>35</th>\n",
       "      <td>33</td>\n",
       "      <td>14</td>\n",
       "    </tr>\n",
       "    <tr>\n",
       "      <th>179</th>\n",
       "      <td>93</td>\n",
       "      <td>14</td>\n",
       "    </tr>\n",
       "  </tbody>\n",
       "</table>\n",
       "</div>"
      ],
      "text/plain": [
       "            Annual Income (k$)  Spending Score (1-100)\n",
       "CustomerID                                            \n",
       "180                         93                      90\n",
       "57                          44                      50\n",
       "111                         63                      52\n",
       "35                          33                      14\n",
       "179                         93                      14"
      ]
     },
     "execution_count": 12,
     "metadata": {},
     "output_type": "execute_result"
    }
   ],
   "source": [
    "df = df.sample(frac=1)\n",
    "df.head()"
   ]
  },
  {
   "cell_type": "code",
   "execution_count": 33,
   "id": "29ee9666",
   "metadata": {},
   "outputs": [
    {
     "data": {
      "application/vnd.plotly.v1+json": {
       "config": {
        "plotlyServerURL": "https://plot.ly"
       },
       "data": [
        {
         "alignmentgroup": "True",
         "bingroup": "y",
         "hovertemplate": "Annual Income (k$)=93<br>count=%{x}<br>Spending Score (1-100)=%{y}<extra></extra>",
         "legendgroup": "93",
         "marker": {
          "color": "#636efa",
          "pattern": {
           "shape": ""
          }
         },
         "name": "93",
         "offsetgroup": "93",
         "orientation": "h",
         "showlegend": true,
         "type": "histogram",
         "xaxis": "x",
         "y": [
          90,
          14
         ],
         "yaxis": "y"
        },
        {
         "alignmentgroup": "True",
         "bingroup": "y",
         "hovertemplate": "Annual Income (k$)=44<br>count=%{x}<br>Spending Score (1-100)=%{y}<extra></extra>",
         "legendgroup": "44",
         "marker": {
          "color": "#EF553B",
          "pattern": {
           "shape": ""
          }
         },
         "name": "44",
         "offsetgroup": "44",
         "orientation": "h",
         "showlegend": true,
         "type": "histogram",
         "xaxis": "x",
         "y": [
          50,
          46
         ],
         "yaxis": "y"
        },
        {
         "alignmentgroup": "True",
         "bingroup": "y",
         "hovertemplate": "Annual Income (k$)=63<br>count=%{x}<br>Spending Score (1-100)=%{y}<extra></extra>",
         "legendgroup": "63",
         "marker": {
          "color": "#00cc96",
          "pattern": {
           "shape": ""
          }
         },
         "name": "63",
         "offsetgroup": "63",
         "orientation": "h",
         "showlegend": true,
         "type": "histogram",
         "xaxis": "x",
         "y": [
          52,
          43,
          50,
          46,
          54,
          48
         ],
         "yaxis": "y"
        },
        {
         "alignmentgroup": "True",
         "bingroup": "y",
         "hovertemplate": "Annual Income (k$)=33<br>count=%{x}<br>Spending Score (1-100)=%{y}<extra></extra>",
         "legendgroup": "33",
         "marker": {
          "color": "#ab63fa",
          "pattern": {
           "shape": ""
          }
         },
         "name": "33",
         "offsetgroup": "33",
         "orientation": "h",
         "showlegend": true,
         "type": "histogram",
         "xaxis": "x",
         "y": [
          14,
          92,
          4,
          81
         ],
         "yaxis": "y"
        },
        {
         "alignmentgroup": "True",
         "bingroup": "y",
         "hovertemplate": "Annual Income (k$)=58<br>count=%{x}<br>Spending Score (1-100)=%{y}<extra></extra>",
         "legendgroup": "58",
         "marker": {
          "color": "#FFA15A",
          "pattern": {
           "shape": ""
          }
         },
         "name": "58",
         "offsetgroup": "58",
         "orientation": "h",
         "showlegend": true,
         "type": "histogram",
         "xaxis": "x",
         "y": [
          60,
          46
         ],
         "yaxis": "y"
        },
        {
         "alignmentgroup": "True",
         "bingroup": "y",
         "hovertemplate": "Annual Income (k$)=19<br>count=%{x}<br>Spending Score (1-100)=%{y}<extra></extra>",
         "legendgroup": "19",
         "marker": {
          "color": "#19d3f3",
          "pattern": {
           "shape": ""
          }
         },
         "name": "19",
         "offsetgroup": "19",
         "orientation": "h",
         "showlegend": true,
         "type": "histogram",
         "xaxis": "x",
         "y": [
          99,
          72,
          14,
          3
         ],
         "yaxis": "y"
        },
        {
         "alignmentgroup": "True",
         "bingroup": "y",
         "hovertemplate": "Annual Income (k$)=23<br>count=%{x}<br>Spending Score (1-100)=%{y}<extra></extra>",
         "legendgroup": "23",
         "marker": {
          "color": "#FF6692",
          "pattern": {
           "shape": ""
          }
         },
         "name": "23",
         "offsetgroup": "23",
         "orientation": "h",
         "showlegend": true,
         "type": "histogram",
         "xaxis": "x",
         "y": [
          29,
          98
         ],
         "yaxis": "y"
        },
        {
         "alignmentgroup": "True",
         "bingroup": "y",
         "hovertemplate": "Annual Income (k$)=77<br>count=%{x}<br>Spending Score (1-100)=%{y}<extra></extra>",
         "legendgroup": "77",
         "marker": {
          "color": "#B6E880",
          "pattern": {
           "shape": ""
          }
         },
         "name": "77",
         "offsetgroup": "77",
         "orientation": "h",
         "showlegend": true,
         "type": "histogram",
         "xaxis": "x",
         "y": [
          97,
          12,
          74,
          36
         ],
         "yaxis": "y"
        },
        {
         "alignmentgroup": "True",
         "bingroup": "y",
         "hovertemplate": "Annual Income (k$)=60<br>count=%{x}<br>Spending Score (1-100)=%{y}<extra></extra>",
         "legendgroup": "60",
         "marker": {
          "color": "#FF97FF",
          "pattern": {
           "shape": ""
          }
         },
         "name": "60",
         "offsetgroup": "60",
         "orientation": "h",
         "showlegend": true,
         "type": "histogram",
         "xaxis": "x",
         "y": [
          52,
          47,
          42,
          40,
          50,
          49
         ],
         "yaxis": "y"
        },
        {
         "alignmentgroup": "True",
         "bingroup": "y",
         "hovertemplate": "Annual Income (k$)=17<br>count=%{x}<br>Spending Score (1-100)=%{y}<extra></extra>",
         "legendgroup": "17",
         "marker": {
          "color": "#FECB52",
          "pattern": {
           "shape": ""
          }
         },
         "name": "17",
         "offsetgroup": "17",
         "orientation": "h",
         "showlegend": true,
         "type": "histogram",
         "xaxis": "x",
         "y": [
          40,
          76
         ],
         "yaxis": "y"
        },
        {
         "alignmentgroup": "True",
         "bingroup": "y",
         "hovertemplate": "Annual Income (k$)=76<br>count=%{x}<br>Spending Score (1-100)=%{y}<extra></extra>",
         "legendgroup": "76",
         "marker": {
          "color": "#636efa",
          "pattern": {
           "shape": ""
          }
         },
         "name": "76",
         "offsetgroup": "76",
         "orientation": "h",
         "showlegend": true,
         "type": "histogram",
         "xaxis": "x",
         "y": [
          87,
          40
         ],
         "yaxis": "y"
        },
        {
         "alignmentgroup": "True",
         "bingroup": "y",
         "hovertemplate": "Annual Income (k$)=59<br>count=%{x}<br>Spending Score (1-100)=%{y}<extra></extra>",
         "legendgroup": "59",
         "marker": {
          "color": "#EF553B",
          "pattern": {
           "shape": ""
          }
         },
         "name": "59",
         "offsetgroup": "59",
         "orientation": "h",
         "showlegend": true,
         "type": "histogram",
         "xaxis": "x",
         "y": [
          55,
          41
         ],
         "yaxis": "y"
        },
        {
         "alignmentgroup": "True",
         "bingroup": "y",
         "hovertemplate": "Annual Income (k$)=62<br>count=%{x}<br>Spending Score (1-100)=%{y}<extra></extra>",
         "legendgroup": "62",
         "marker": {
          "color": "#00cc96",
          "pattern": {
           "shape": ""
          }
         },
         "name": "62",
         "offsetgroup": "62",
         "orientation": "h",
         "showlegend": true,
         "type": "histogram",
         "xaxis": "x",
         "y": [
          59,
          41,
          55,
          42,
          48,
          56
         ],
         "yaxis": "y"
        },
        {
         "alignmentgroup": "True",
         "bingroup": "y",
         "hovertemplate": "Annual Income (k$)=101<br>count=%{x}<br>Spending Score (1-100)=%{y}<extra></extra>",
         "legendgroup": "101",
         "marker": {
          "color": "#ab63fa",
          "pattern": {
           "shape": ""
          }
         },
         "name": "101",
         "offsetgroup": "101",
         "orientation": "h",
         "showlegend": true,
         "type": "histogram",
         "xaxis": "x",
         "y": [
          24,
          68
         ],
         "yaxis": "y"
        },
        {
         "alignmentgroup": "True",
         "bingroup": "y",
         "hovertemplate": "Annual Income (k$)=42<br>count=%{x}<br>Spending Score (1-100)=%{y}<extra></extra>",
         "legendgroup": "42",
         "marker": {
          "color": "#FFA15A",
          "pattern": {
           "shape": ""
          }
         },
         "name": "42",
         "offsetgroup": "42",
         "orientation": "h",
         "showlegend": true,
         "type": "histogram",
         "xaxis": "x",
         "y": [
          52,
          60
         ],
         "yaxis": "y"
        },
        {
         "alignmentgroup": "True",
         "bingroup": "y",
         "hovertemplate": "Annual Income (k$)=40<br>count=%{x}<br>Spending Score (1-100)=%{y}<extra></extra>",
         "legendgroup": "40",
         "marker": {
          "color": "#19d3f3",
          "pattern": {
           "shape": ""
          }
         },
         "name": "40",
         "offsetgroup": "40",
         "orientation": "h",
         "showlegend": true,
         "type": "histogram",
         "xaxis": "x",
         "y": [
          55,
          42,
          42,
          47
         ],
         "yaxis": "y"
        },
        {
         "alignmentgroup": "True",
         "bingroup": "y",
         "hovertemplate": "Annual Income (k$)=67<br>count=%{x}<br>Spending Score (1-100)=%{y}<extra></extra>",
         "legendgroup": "67",
         "marker": {
          "color": "#FF6692",
          "pattern": {
           "shape": ""
          }
         },
         "name": "67",
         "offsetgroup": "67",
         "orientation": "h",
         "showlegend": true,
         "type": "histogram",
         "xaxis": "x",
         "y": [
          57,
          40,
          43,
          56
         ],
         "yaxis": "y"
        },
        {
         "alignmentgroup": "True",
         "bingroup": "y",
         "hovertemplate": "Annual Income (k$)=97<br>count=%{x}<br>Spending Score (1-100)=%{y}<extra></extra>",
         "legendgroup": "97",
         "marker": {
          "color": "#B6E880",
          "pattern": {
           "shape": ""
          }
         },
         "name": "97",
         "offsetgroup": "97",
         "orientation": "h",
         "showlegend": true,
         "type": "histogram",
         "xaxis": "x",
         "y": [
          86,
          32
         ],
         "yaxis": "y"
        },
        {
         "alignmentgroup": "True",
         "bingroup": "y",
         "hovertemplate": "Annual Income (k$)=98<br>count=%{x}<br>Spending Score (1-100)=%{y}<extra></extra>",
         "legendgroup": "98",
         "marker": {
          "color": "#FF97FF",
          "pattern": {
           "shape": ""
          }
         },
         "name": "98",
         "offsetgroup": "98",
         "orientation": "h",
         "showlegend": true,
         "type": "histogram",
         "xaxis": "x",
         "y": [
          88,
          15
         ],
         "yaxis": "y"
        },
        {
         "alignmentgroup": "True",
         "bingroup": "y",
         "hovertemplate": "Annual Income (k$)=39<br>count=%{x}<br>Spending Score (1-100)=%{y}<extra></extra>",
         "legendgroup": "39",
         "marker": {
          "color": "#FECB52",
          "pattern": {
           "shape": ""
          }
         },
         "name": "39",
         "offsetgroup": "39",
         "orientation": "h",
         "showlegend": true,
         "type": "histogram",
         "xaxis": "x",
         "y": [
          65,
          61,
          36,
          28
         ],
         "yaxis": "y"
        },
        {
         "alignmentgroup": "True",
         "bingroup": "y",
         "hovertemplate": "Annual Income (k$)=34<br>count=%{x}<br>Spending Score (1-100)=%{y}<extra></extra>",
         "legendgroup": "34",
         "marker": {
          "color": "#636efa",
          "pattern": {
           "shape": ""
          }
         },
         "name": "34",
         "offsetgroup": "34",
         "orientation": "h",
         "showlegend": true,
         "type": "histogram",
         "xaxis": "x",
         "y": [
          73,
          17
         ],
         "yaxis": "y"
        },
        {
         "alignmentgroup": "True",
         "bingroup": "y",
         "hovertemplate": "Annual Income (k$)=126<br>count=%{x}<br>Spending Score (1-100)=%{y}<extra></extra>",
         "legendgroup": "126",
         "marker": {
          "color": "#EF553B",
          "pattern": {
           "shape": ""
          }
         },
         "name": "126",
         "offsetgroup": "126",
         "orientation": "h",
         "showlegend": true,
         "type": "histogram",
         "xaxis": "x",
         "y": [
          74,
          28
         ],
         "yaxis": "y"
        },
        {
         "alignmentgroup": "True",
         "bingroup": "y",
         "hovertemplate": "Annual Income (k$)=87<br>count=%{x}<br>Spending Score (1-100)=%{y}<extra></extra>",
         "legendgroup": "87",
         "marker": {
          "color": "#00cc96",
          "pattern": {
           "shape": ""
          }
         },
         "name": "87",
         "offsetgroup": "87",
         "orientation": "h",
         "showlegend": true,
         "type": "histogram",
         "xaxis": "x",
         "y": [
          92,
          63,
          27,
          13,
          75,
          10
         ],
         "yaxis": "y"
        },
        {
         "alignmentgroup": "True",
         "bingroup": "y",
         "hovertemplate": "Annual Income (k$)=28<br>count=%{x}<br>Spending Score (1-100)=%{y}<extra></extra>",
         "legendgroup": "28",
         "marker": {
          "color": "#ab63fa",
          "pattern": {
           "shape": ""
          }
         },
         "name": "28",
         "offsetgroup": "28",
         "orientation": "h",
         "showlegend": true,
         "type": "histogram",
         "xaxis": "x",
         "y": [
          14,
          82,
          61,
          32
         ],
         "yaxis": "y"
        },
        {
         "alignmentgroup": "True",
         "bingroup": "y",
         "hovertemplate": "Annual Income (k$)=73<br>count=%{x}<br>Spending Score (1-100)=%{y}<extra></extra>",
         "legendgroup": "73",
         "marker": {
          "color": "#FFA15A",
          "pattern": {
           "shape": ""
          }
         },
         "name": "73",
         "offsetgroup": "73",
         "orientation": "h",
         "showlegend": true,
         "type": "histogram",
         "xaxis": "x",
         "y": [
          88,
          7,
          73,
          5
         ],
         "yaxis": "y"
        },
        {
         "alignmentgroup": "True",
         "bingroup": "y",
         "hovertemplate": "Annual Income (k$)=37<br>count=%{x}<br>Spending Score (1-100)=%{y}<extra></extra>",
         "legendgroup": "37",
         "marker": {
          "color": "#19d3f3",
          "pattern": {
           "shape": ""
          }
         },
         "name": "37",
         "offsetgroup": "37",
         "orientation": "h",
         "showlegend": true,
         "type": "histogram",
         "xaxis": "x",
         "y": [
          75,
          26
         ],
         "yaxis": "y"
        },
        {
         "alignmentgroup": "True",
         "bingroup": "y",
         "hovertemplate": "Annual Income (k$)=103<br>count=%{x}<br>Spending Score (1-100)=%{y}<extra></extra>",
         "legendgroup": "103",
         "marker": {
          "color": "#FF6692",
          "pattern": {
           "shape": ""
          }
         },
         "name": "103",
         "offsetgroup": "103",
         "orientation": "h",
         "showlegend": true,
         "type": "histogram",
         "xaxis": "x",
         "y": [
          23,
          69,
          85,
          17
         ],
         "yaxis": "y"
        },
        {
         "alignmentgroup": "True",
         "bingroup": "y",
         "hovertemplate": "Annual Income (k$)=64<br>count=%{x}<br>Spending Score (1-100)=%{y}<extra></extra>",
         "legendgroup": "64",
         "marker": {
          "color": "#B6E880",
          "pattern": {
           "shape": ""
          }
         },
         "name": "64",
         "offsetgroup": "64",
         "orientation": "h",
         "showlegend": true,
         "type": "histogram",
         "xaxis": "x",
         "y": [
          42,
          46
         ],
         "yaxis": "y"
        },
        {
         "alignmentgroup": "True",
         "bingroup": "y",
         "hovertemplate": "Annual Income (k$)=48<br>count=%{x}<br>Spending Score (1-100)=%{y}<extra></extra>",
         "legendgroup": "48",
         "marker": {
          "color": "#FF97FF",
          "pattern": {
           "shape": ""
          }
         },
         "name": "48",
         "offsetgroup": "48",
         "orientation": "h",
         "showlegend": true,
         "type": "histogram",
         "xaxis": "x",
         "y": [
          59,
          59,
          48,
          47,
          50,
          51
         ],
         "yaxis": "y"
        },
        {
         "alignmentgroup": "True",
         "bingroup": "y",
         "hovertemplate": "Annual Income (k$)=88<br>count=%{x}<br>Spending Score (1-100)=%{y}<extra></extra>",
         "legendgroup": "88",
         "marker": {
          "color": "#FECB52",
          "pattern": {
           "shape": ""
          }
         },
         "name": "88",
         "offsetgroup": "88",
         "orientation": "h",
         "showlegend": true,
         "type": "histogram",
         "xaxis": "x",
         "y": [
          15,
          69,
          13,
          86
         ],
         "yaxis": "y"
        },
        {
         "alignmentgroup": "True",
         "bingroup": "y",
         "hovertemplate": "Annual Income (k$)=70<br>count=%{x}<br>Spending Score (1-100)=%{y}<extra></extra>",
         "legendgroup": "70",
         "marker": {
          "color": "#636efa",
          "pattern": {
           "shape": ""
          }
         },
         "name": "70",
         "offsetgroup": "70",
         "orientation": "h",
         "showlegend": true,
         "type": "histogram",
         "xaxis": "x",
         "y": [
          29,
          77
         ],
         "yaxis": "y"
        },
        {
         "alignmentgroup": "True",
         "bingroup": "y",
         "hovertemplate": "Annual Income (k$)=65<br>count=%{x}<br>Spending Score (1-100)=%{y}<extra></extra>",
         "legendgroup": "65",
         "marker": {
          "color": "#EF553B",
          "pattern": {
           "shape": ""
          }
         },
         "name": "65",
         "offsetgroup": "65",
         "orientation": "h",
         "showlegend": true,
         "type": "histogram",
         "xaxis": "x",
         "y": [
          59,
          50,
          48,
          43
         ],
         "yaxis": "y"
        },
        {
         "alignmentgroup": "True",
         "bingroup": "y",
         "hovertemplate": "Annual Income (k$)=54<br>count=%{x}<br>Spending Score (1-100)=%{y}<extra></extra>",
         "legendgroup": "54",
         "marker": {
          "color": "#00cc96",
          "pattern": {
           "shape": ""
          }
         },
         "name": "54",
         "offsetgroup": "54",
         "orientation": "h",
         "showlegend": true,
         "type": "histogram",
         "xaxis": "x",
         "y": [
          52,
          47,
          44,
          41,
          42,
          55,
          48,
          53,
          54,
          46,
          51,
          57
         ],
         "yaxis": "y"
        },
        {
         "alignmentgroup": "True",
         "bingroup": "y",
         "hovertemplate": "Annual Income (k$)=15<br>count=%{x}<br>Spending Score (1-100)=%{y}<extra></extra>",
         "legendgroup": "15",
         "marker": {
          "color": "#ab63fa",
          "pattern": {
           "shape": ""
          }
         },
         "name": "15",
         "offsetgroup": "15",
         "orientation": "h",
         "showlegend": true,
         "type": "histogram",
         "xaxis": "x",
         "y": [
          81,
          39
         ],
         "yaxis": "y"
        },
        {
         "alignmentgroup": "True",
         "bingroup": "y",
         "hovertemplate": "Annual Income (k$)=85<br>count=%{x}<br>Spending Score (1-100)=%{y}<extra></extra>",
         "legendgroup": "85",
         "marker": {
          "color": "#FFA15A",
          "pattern": {
           "shape": ""
          }
         },
         "name": "85",
         "offsetgroup": "85",
         "orientation": "h",
         "showlegend": true,
         "type": "histogram",
         "xaxis": "x",
         "y": [
          26,
          75
         ],
         "yaxis": "y"
        },
        {
         "alignmentgroup": "True",
         "bingroup": "y",
         "hovertemplate": "Annual Income (k$)=30<br>count=%{x}<br>Spending Score (1-100)=%{y}<extra></extra>",
         "legendgroup": "30",
         "marker": {
          "color": "#19d3f3",
          "pattern": {
           "shape": ""
          }
         },
         "name": "30",
         "offsetgroup": "30",
         "orientation": "h",
         "showlegend": true,
         "type": "histogram",
         "xaxis": "x",
         "y": [
          4,
          73
         ],
         "yaxis": "y"
        },
        {
         "alignmentgroup": "True",
         "bingroup": "y",
         "hovertemplate": "Annual Income (k$)=71<br>count=%{x}<br>Spending Score (1-100)=%{y}<extra></extra>",
         "legendgroup": "71",
         "marker": {
          "color": "#FF6692",
          "pattern": {
           "shape": ""
          }
         },
         "name": "71",
         "offsetgroup": "71",
         "orientation": "h",
         "showlegend": true,
         "type": "histogram",
         "xaxis": "x",
         "y": [
          75,
          11,
          9,
          95,
          75,
          35
         ],
         "yaxis": "y"
        },
        {
         "alignmentgroup": "True",
         "bingroup": "y",
         "hovertemplate": "Annual Income (k$)=78<br>count=%{x}<br>Spending Score (1-100)=%{y}<extra></extra>",
         "legendgroup": "78",
         "marker": {
          "color": "#B6E880",
          "pattern": {
           "shape": ""
          }
         },
         "name": "78",
         "offsetgroup": "78",
         "orientation": "h",
         "showlegend": true,
         "type": "histogram",
         "xaxis": "x",
         "y": [
          20,
          76,
          78,
          22,
          88,
          16,
          17,
          73,
          1,
          1,
          90,
          89
         ],
         "yaxis": "y"
        },
        {
         "alignmentgroup": "True",
         "bingroup": "y",
         "hovertemplate": "Annual Income (k$)=50<br>count=%{x}<br>Spending Score (1-100)=%{y}<extra></extra>",
         "legendgroup": "50",
         "marker": {
          "color": "#FF97FF",
          "pattern": {
           "shape": ""
          }
         },
         "name": "50",
         "offsetgroup": "50",
         "orientation": "h",
         "showlegend": true,
         "type": "histogram",
         "xaxis": "x",
         "y": [
          49,
          56
         ],
         "yaxis": "y"
        },
        {
         "alignmentgroup": "True",
         "bingroup": "y",
         "hovertemplate": "Annual Income (k$)=79<br>count=%{x}<br>Spending Score (1-100)=%{y}<extra></extra>",
         "legendgroup": "79",
         "marker": {
          "color": "#FECB52",
          "pattern": {
           "shape": ""
          }
         },
         "name": "79",
         "offsetgroup": "79",
         "orientation": "h",
         "showlegend": true,
         "type": "histogram",
         "xaxis": "x",
         "y": [
          35,
          83
         ],
         "yaxis": "y"
        },
        {
         "alignmentgroup": "True",
         "bingroup": "y",
         "hovertemplate": "Annual Income (k$)=20<br>count=%{x}<br>Spending Score (1-100)=%{y}<extra></extra>",
         "legendgroup": "20",
         "marker": {
          "color": "#636efa",
          "pattern": {
           "shape": ""
          }
         },
         "name": "20",
         "offsetgroup": "20",
         "orientation": "h",
         "showlegend": true,
         "type": "histogram",
         "xaxis": "x",
         "y": [
          79,
          77,
          13,
          15
         ],
         "yaxis": "y"
        },
        {
         "alignmentgroup": "True",
         "bingroup": "y",
         "hovertemplate": "Annual Income (k$)=81<br>count=%{x}<br>Spending Score (1-100)=%{y}<extra></extra>",
         "legendgroup": "81",
         "marker": {
          "color": "#EF553B",
          "pattern": {
           "shape": ""
          }
         },
         "name": "81",
         "offsetgroup": "81",
         "orientation": "h",
         "showlegend": true,
         "type": "histogram",
         "xaxis": "x",
         "y": [
          5,
          93
         ],
         "yaxis": "y"
        },
        {
         "alignmentgroup": "True",
         "bingroup": "y",
         "hovertemplate": "Annual Income (k$)=47<br>count=%{x}<br>Spending Score (1-100)=%{y}<extra></extra>",
         "legendgroup": "47",
         "marker": {
          "color": "#00cc96",
          "pattern": {
           "shape": ""
          }
         },
         "name": "47",
         "offsetgroup": "47",
         "orientation": "h",
         "showlegend": true,
         "type": "histogram",
         "xaxis": "x",
         "y": [
          52,
          59
         ],
         "yaxis": "y"
        },
        {
         "alignmentgroup": "True",
         "bingroup": "y",
         "hovertemplate": "Annual Income (k$)=25<br>count=%{x}<br>Spending Score (1-100)=%{y}<extra></extra>",
         "legendgroup": "25",
         "marker": {
          "color": "#ab63fa",
          "pattern": {
           "shape": ""
          }
         },
         "name": "25",
         "offsetgroup": "25",
         "orientation": "h",
         "showlegend": true,
         "type": "histogram",
         "xaxis": "x",
         "y": [
          5,
          73
         ],
         "yaxis": "y"
        },
        {
         "alignmentgroup": "True",
         "bingroup": "y",
         "hovertemplate": "Annual Income (k$)=61<br>count=%{x}<br>Spending Score (1-100)=%{y}<extra></extra>",
         "legendgroup": "61",
         "marker": {
          "color": "#FFA15A",
          "pattern": {
           "shape": ""
          }
         },
         "name": "61",
         "offsetgroup": "61",
         "orientation": "h",
         "showlegend": true,
         "type": "histogram",
         "xaxis": "x",
         "y": [
          42,
          49
         ],
         "yaxis": "y"
        },
        {
         "alignmentgroup": "True",
         "bingroup": "y",
         "hovertemplate": "Annual Income (k$)=75<br>count=%{x}<br>Spending Score (1-100)=%{y}<extra></extra>",
         "legendgroup": "75",
         "marker": {
          "color": "#19d3f3",
          "pattern": {
           "shape": ""
          }
         },
         "name": "75",
         "offsetgroup": "75",
         "orientation": "h",
         "showlegend": true,
         "type": "histogram",
         "xaxis": "x",
         "y": [
          93,
          5
         ],
         "yaxis": "y"
        },
        {
         "alignmentgroup": "True",
         "bingroup": "y",
         "hovertemplate": "Annual Income (k$)=113<br>count=%{x}<br>Spending Score (1-100)=%{y}<extra></extra>",
         "legendgroup": "113",
         "marker": {
          "color": "#FF6692",
          "pattern": {
           "shape": ""
          }
         },
         "name": "113",
         "offsetgroup": "113",
         "orientation": "h",
         "showlegend": true,
         "type": "histogram",
         "xaxis": "x",
         "y": [
          8,
          91
         ],
         "yaxis": "y"
        },
        {
         "alignmentgroup": "True",
         "bingroup": "y",
         "hovertemplate": "Annual Income (k$)=16<br>count=%{x}<br>Spending Score (1-100)=%{y}<extra></extra>",
         "legendgroup": "16",
         "marker": {
          "color": "#B6E880",
          "pattern": {
           "shape": ""
          }
         },
         "name": "16",
         "offsetgroup": "16",
         "orientation": "h",
         "showlegend": true,
         "type": "histogram",
         "xaxis": "x",
         "y": [
          6,
          77
         ],
         "yaxis": "y"
        },
        {
         "alignmentgroup": "True",
         "bingroup": "y",
         "hovertemplate": "Annual Income (k$)=137<br>count=%{x}<br>Spending Score (1-100)=%{y}<extra></extra>",
         "legendgroup": "137",
         "marker": {
          "color": "#FF97FF",
          "pattern": {
           "shape": ""
          }
         },
         "name": "137",
         "offsetgroup": "137",
         "orientation": "h",
         "showlegend": true,
         "type": "histogram",
         "xaxis": "x",
         "y": [
          83,
          18
         ],
         "yaxis": "y"
        },
        {
         "alignmentgroup": "True",
         "bingroup": "y",
         "hovertemplate": "Annual Income (k$)=72<br>count=%{x}<br>Spending Score (1-100)=%{y}<extra></extra>",
         "legendgroup": "72",
         "marker": {
          "color": "#FECB52",
          "pattern": {
           "shape": ""
          }
         },
         "name": "72",
         "offsetgroup": "72",
         "orientation": "h",
         "showlegend": true,
         "type": "histogram",
         "xaxis": "x",
         "y": [
          34,
          71
         ],
         "yaxis": "y"
        },
        {
         "alignmentgroup": "True",
         "bingroup": "y",
         "hovertemplate": "Annual Income (k$)=46<br>count=%{x}<br>Spending Score (1-100)=%{y}<extra></extra>",
         "legendgroup": "46",
         "marker": {
          "color": "#636efa",
          "pattern": {
           "shape": ""
          }
         },
         "name": "46",
         "offsetgroup": "46",
         "orientation": "h",
         "showlegend": true,
         "type": "histogram",
         "xaxis": "x",
         "y": [
          56,
          55,
          51,
          46
         ],
         "yaxis": "y"
        },
        {
         "alignmentgroup": "True",
         "bingroup": "y",
         "hovertemplate": "Annual Income (k$)=49<br>count=%{x}<br>Spending Score (1-100)=%{y}<extra></extra>",
         "legendgroup": "49",
         "marker": {
          "color": "#EF553B",
          "pattern": {
           "shape": ""
          }
         },
         "name": "49",
         "offsetgroup": "49",
         "orientation": "h",
         "showlegend": true,
         "type": "histogram",
         "xaxis": "x",
         "y": [
          55,
          42
         ],
         "yaxis": "y"
        },
        {
         "alignmentgroup": "True",
         "bingroup": "y",
         "hovertemplate": "Annual Income (k$)=99<br>count=%{x}<br>Spending Score (1-100)=%{y}<extra></extra>",
         "legendgroup": "99",
         "marker": {
          "color": "#00cc96",
          "pattern": {
           "shape": ""
          }
         },
         "name": "99",
         "offsetgroup": "99",
         "orientation": "h",
         "showlegend": true,
         "type": "histogram",
         "xaxis": "x",
         "y": [
          97,
          39
         ],
         "yaxis": "y"
        },
        {
         "alignmentgroup": "True",
         "bingroup": "y",
         "hovertemplate": "Annual Income (k$)=24<br>count=%{x}<br>Spending Score (1-100)=%{y}<extra></extra>",
         "legendgroup": "24",
         "marker": {
          "color": "#ab63fa",
          "pattern": {
           "shape": ""
          }
         },
         "name": "24",
         "offsetgroup": "24",
         "orientation": "h",
         "showlegend": true,
         "type": "histogram",
         "xaxis": "x",
         "y": [
          35,
          73
         ],
         "yaxis": "y"
        },
        {
         "alignmentgroup": "True",
         "bingroup": "y",
         "hovertemplate": "Annual Income (k$)=86<br>count=%{x}<br>Spending Score (1-100)=%{y}<extra></extra>",
         "legendgroup": "86",
         "marker": {
          "color": "#FFA15A",
          "pattern": {
           "shape": ""
          }
         },
         "name": "86",
         "offsetgroup": "86",
         "orientation": "h",
         "showlegend": true,
         "type": "histogram",
         "xaxis": "x",
         "y": [
          20,
          95
         ],
         "yaxis": "y"
        },
        {
         "alignmentgroup": "True",
         "bingroup": "y",
         "hovertemplate": "Annual Income (k$)=43<br>count=%{x}<br>Spending Score (1-100)=%{y}<extra></extra>",
         "legendgroup": "43",
         "marker": {
          "color": "#19d3f3",
          "pattern": {
           "shape": ""
          }
         },
         "name": "43",
         "offsetgroup": "43",
         "orientation": "h",
         "showlegend": true,
         "type": "histogram",
         "xaxis": "x",
         "y": [
          45,
          54,
          60,
          41
         ],
         "yaxis": "y"
        },
        {
         "alignmentgroup": "True",
         "bingroup": "y",
         "hovertemplate": "Annual Income (k$)=69<br>count=%{x}<br>Spending Score (1-100)=%{y}<extra></extra>",
         "legendgroup": "69",
         "marker": {
          "color": "#FF6692",
          "pattern": {
           "shape": ""
          }
         },
         "name": "69",
         "offsetgroup": "69",
         "orientation": "h",
         "showlegend": true,
         "type": "histogram",
         "xaxis": "x",
         "y": [
          91,
          58
         ],
         "yaxis": "y"
        },
        {
         "alignmentgroup": "True",
         "bingroup": "y",
         "hovertemplate": "Annual Income (k$)=29<br>count=%{x}<br>Spending Score (1-100)=%{y}<extra></extra>",
         "legendgroup": "29",
         "marker": {
          "color": "#B6E880",
          "pattern": {
           "shape": ""
          }
         },
         "name": "29",
         "offsetgroup": "29",
         "orientation": "h",
         "showlegend": true,
         "type": "histogram",
         "xaxis": "x",
         "y": [
          31,
          87
         ],
         "yaxis": "y"
        },
        {
         "alignmentgroup": "True",
         "bingroup": "y",
         "hovertemplate": "Annual Income (k$)=120<br>count=%{x}<br>Spending Score (1-100)=%{y}<extra></extra>",
         "legendgroup": "120",
         "marker": {
          "color": "#FF97FF",
          "pattern": {
           "shape": ""
          }
         },
         "name": "120",
         "offsetgroup": "120",
         "orientation": "h",
         "showlegend": true,
         "type": "histogram",
         "xaxis": "x",
         "y": [
          16,
          79
         ],
         "yaxis": "y"
        },
        {
         "alignmentgroup": "True",
         "bingroup": "y",
         "hovertemplate": "Annual Income (k$)=21<br>count=%{x}<br>Spending Score (1-100)=%{y}<extra></extra>",
         "legendgroup": "21",
         "marker": {
          "color": "#FECB52",
          "pattern": {
           "shape": ""
          }
         },
         "name": "21",
         "offsetgroup": "21",
         "orientation": "h",
         "showlegend": true,
         "type": "histogram",
         "xaxis": "x",
         "y": [
          66,
          35
         ],
         "yaxis": "y"
        },
        {
         "alignmentgroup": "True",
         "bingroup": "y",
         "hovertemplate": "Annual Income (k$)=57<br>count=%{x}<br>Spending Score (1-100)=%{y}<extra></extra>",
         "legendgroup": "57",
         "marker": {
          "color": "#636efa",
          "pattern": {
           "shape": ""
          }
         },
         "name": "57",
         "offsetgroup": "57",
         "orientation": "h",
         "showlegend": true,
         "type": "histogram",
         "xaxis": "x",
         "y": [
          55,
          58
         ],
         "yaxis": "y"
        },
        {
         "alignmentgroup": "True",
         "bingroup": "y",
         "hovertemplate": "Annual Income (k$)=18<br>count=%{x}<br>Spending Score (1-100)=%{y}<extra></extra>",
         "legendgroup": "18",
         "marker": {
          "color": "#EF553B",
          "pattern": {
           "shape": ""
          }
         },
         "name": "18",
         "offsetgroup": "18",
         "orientation": "h",
         "showlegend": true,
         "type": "histogram",
         "xaxis": "x",
         "y": [
          6,
          94
         ],
         "yaxis": "y"
        },
        {
         "alignmentgroup": "True",
         "bingroup": "y",
         "hovertemplate": "Annual Income (k$)=74<br>count=%{x}<br>Spending Score (1-100)=%{y}<extra></extra>",
         "legendgroup": "74",
         "marker": {
          "color": "#00cc96",
          "pattern": {
           "shape": ""
          }
         },
         "name": "74",
         "offsetgroup": "74",
         "orientation": "h",
         "showlegend": true,
         "type": "histogram",
         "xaxis": "x",
         "y": [
          72,
          10
         ],
         "yaxis": "y"
        },
        {
         "alignmentgroup": "True",
         "bingroup": "y",
         "hovertemplate": "Annual Income (k$)=38<br>count=%{x}<br>Spending Score (1-100)=%{y}<extra></extra>",
         "legendgroup": "38",
         "marker": {
          "color": "#ab63fa",
          "pattern": {
           "shape": ""
          }
         },
         "name": "38",
         "offsetgroup": "38",
         "orientation": "h",
         "showlegend": true,
         "type": "histogram",
         "xaxis": "x",
         "y": [
          92,
          35
         ],
         "yaxis": "y"
        }
       ],
       "layout": {
        "barmode": "relative",
        "legend": {
         "title": {
          "text": "Annual Income (k$)"
         },
         "tracegroupgap": 0
        },
        "margin": {
         "t": 60
        },
        "template": {
         "data": {
          "bar": [
           {
            "error_x": {
             "color": "#2a3f5f"
            },
            "error_y": {
             "color": "#2a3f5f"
            },
            "marker": {
             "line": {
              "color": "#E5ECF6",
              "width": 0.5
             },
             "pattern": {
              "fillmode": "overlay",
              "size": 10,
              "solidity": 0.2
             }
            },
            "type": "bar"
           }
          ],
          "barpolar": [
           {
            "marker": {
             "line": {
              "color": "#E5ECF6",
              "width": 0.5
             },
             "pattern": {
              "fillmode": "overlay",
              "size": 10,
              "solidity": 0.2
             }
            },
            "type": "barpolar"
           }
          ],
          "carpet": [
           {
            "aaxis": {
             "endlinecolor": "#2a3f5f",
             "gridcolor": "white",
             "linecolor": "white",
             "minorgridcolor": "white",
             "startlinecolor": "#2a3f5f"
            },
            "baxis": {
             "endlinecolor": "#2a3f5f",
             "gridcolor": "white",
             "linecolor": "white",
             "minorgridcolor": "white",
             "startlinecolor": "#2a3f5f"
            },
            "type": "carpet"
           }
          ],
          "choropleth": [
           {
            "colorbar": {
             "outlinewidth": 0,
             "ticks": ""
            },
            "type": "choropleth"
           }
          ],
          "contour": [
           {
            "colorbar": {
             "outlinewidth": 0,
             "ticks": ""
            },
            "colorscale": [
             [
              0,
              "#0d0887"
             ],
             [
              0.1111111111111111,
              "#46039f"
             ],
             [
              0.2222222222222222,
              "#7201a8"
             ],
             [
              0.3333333333333333,
              "#9c179e"
             ],
             [
              0.4444444444444444,
              "#bd3786"
             ],
             [
              0.5555555555555556,
              "#d8576b"
             ],
             [
              0.6666666666666666,
              "#ed7953"
             ],
             [
              0.7777777777777778,
              "#fb9f3a"
             ],
             [
              0.8888888888888888,
              "#fdca26"
             ],
             [
              1,
              "#f0f921"
             ]
            ],
            "type": "contour"
           }
          ],
          "contourcarpet": [
           {
            "colorbar": {
             "outlinewidth": 0,
             "ticks": ""
            },
            "type": "contourcarpet"
           }
          ],
          "heatmap": [
           {
            "colorbar": {
             "outlinewidth": 0,
             "ticks": ""
            },
            "colorscale": [
             [
              0,
              "#0d0887"
             ],
             [
              0.1111111111111111,
              "#46039f"
             ],
             [
              0.2222222222222222,
              "#7201a8"
             ],
             [
              0.3333333333333333,
              "#9c179e"
             ],
             [
              0.4444444444444444,
              "#bd3786"
             ],
             [
              0.5555555555555556,
              "#d8576b"
             ],
             [
              0.6666666666666666,
              "#ed7953"
             ],
             [
              0.7777777777777778,
              "#fb9f3a"
             ],
             [
              0.8888888888888888,
              "#fdca26"
             ],
             [
              1,
              "#f0f921"
             ]
            ],
            "type": "heatmap"
           }
          ],
          "heatmapgl": [
           {
            "colorbar": {
             "outlinewidth": 0,
             "ticks": ""
            },
            "colorscale": [
             [
              0,
              "#0d0887"
             ],
             [
              0.1111111111111111,
              "#46039f"
             ],
             [
              0.2222222222222222,
              "#7201a8"
             ],
             [
              0.3333333333333333,
              "#9c179e"
             ],
             [
              0.4444444444444444,
              "#bd3786"
             ],
             [
              0.5555555555555556,
              "#d8576b"
             ],
             [
              0.6666666666666666,
              "#ed7953"
             ],
             [
              0.7777777777777778,
              "#fb9f3a"
             ],
             [
              0.8888888888888888,
              "#fdca26"
             ],
             [
              1,
              "#f0f921"
             ]
            ],
            "type": "heatmapgl"
           }
          ],
          "histogram": [
           {
            "marker": {
             "pattern": {
              "fillmode": "overlay",
              "size": 10,
              "solidity": 0.2
             }
            },
            "type": "histogram"
           }
          ],
          "histogram2d": [
           {
            "colorbar": {
             "outlinewidth": 0,
             "ticks": ""
            },
            "colorscale": [
             [
              0,
              "#0d0887"
             ],
             [
              0.1111111111111111,
              "#46039f"
             ],
             [
              0.2222222222222222,
              "#7201a8"
             ],
             [
              0.3333333333333333,
              "#9c179e"
             ],
             [
              0.4444444444444444,
              "#bd3786"
             ],
             [
              0.5555555555555556,
              "#d8576b"
             ],
             [
              0.6666666666666666,
              "#ed7953"
             ],
             [
              0.7777777777777778,
              "#fb9f3a"
             ],
             [
              0.8888888888888888,
              "#fdca26"
             ],
             [
              1,
              "#f0f921"
             ]
            ],
            "type": "histogram2d"
           }
          ],
          "histogram2dcontour": [
           {
            "colorbar": {
             "outlinewidth": 0,
             "ticks": ""
            },
            "colorscale": [
             [
              0,
              "#0d0887"
             ],
             [
              0.1111111111111111,
              "#46039f"
             ],
             [
              0.2222222222222222,
              "#7201a8"
             ],
             [
              0.3333333333333333,
              "#9c179e"
             ],
             [
              0.4444444444444444,
              "#bd3786"
             ],
             [
              0.5555555555555556,
              "#d8576b"
             ],
             [
              0.6666666666666666,
              "#ed7953"
             ],
             [
              0.7777777777777778,
              "#fb9f3a"
             ],
             [
              0.8888888888888888,
              "#fdca26"
             ],
             [
              1,
              "#f0f921"
             ]
            ],
            "type": "histogram2dcontour"
           }
          ],
          "mesh3d": [
           {
            "colorbar": {
             "outlinewidth": 0,
             "ticks": ""
            },
            "type": "mesh3d"
           }
          ],
          "parcoords": [
           {
            "line": {
             "colorbar": {
              "outlinewidth": 0,
              "ticks": ""
             }
            },
            "type": "parcoords"
           }
          ],
          "pie": [
           {
            "automargin": true,
            "type": "pie"
           }
          ],
          "scatter": [
           {
            "fillpattern": {
             "fillmode": "overlay",
             "size": 10,
             "solidity": 0.2
            },
            "type": "scatter"
           }
          ],
          "scatter3d": [
           {
            "line": {
             "colorbar": {
              "outlinewidth": 0,
              "ticks": ""
             }
            },
            "marker": {
             "colorbar": {
              "outlinewidth": 0,
              "ticks": ""
             }
            },
            "type": "scatter3d"
           }
          ],
          "scattercarpet": [
           {
            "marker": {
             "colorbar": {
              "outlinewidth": 0,
              "ticks": ""
             }
            },
            "type": "scattercarpet"
           }
          ],
          "scattergeo": [
           {
            "marker": {
             "colorbar": {
              "outlinewidth": 0,
              "ticks": ""
             }
            },
            "type": "scattergeo"
           }
          ],
          "scattergl": [
           {
            "marker": {
             "colorbar": {
              "outlinewidth": 0,
              "ticks": ""
             }
            },
            "type": "scattergl"
           }
          ],
          "scattermapbox": [
           {
            "marker": {
             "colorbar": {
              "outlinewidth": 0,
              "ticks": ""
             }
            },
            "type": "scattermapbox"
           }
          ],
          "scatterpolar": [
           {
            "marker": {
             "colorbar": {
              "outlinewidth": 0,
              "ticks": ""
             }
            },
            "type": "scatterpolar"
           }
          ],
          "scatterpolargl": [
           {
            "marker": {
             "colorbar": {
              "outlinewidth": 0,
              "ticks": ""
             }
            },
            "type": "scatterpolargl"
           }
          ],
          "scatterternary": [
           {
            "marker": {
             "colorbar": {
              "outlinewidth": 0,
              "ticks": ""
             }
            },
            "type": "scatterternary"
           }
          ],
          "surface": [
           {
            "colorbar": {
             "outlinewidth": 0,
             "ticks": ""
            },
            "colorscale": [
             [
              0,
              "#0d0887"
             ],
             [
              0.1111111111111111,
              "#46039f"
             ],
             [
              0.2222222222222222,
              "#7201a8"
             ],
             [
              0.3333333333333333,
              "#9c179e"
             ],
             [
              0.4444444444444444,
              "#bd3786"
             ],
             [
              0.5555555555555556,
              "#d8576b"
             ],
             [
              0.6666666666666666,
              "#ed7953"
             ],
             [
              0.7777777777777778,
              "#fb9f3a"
             ],
             [
              0.8888888888888888,
              "#fdca26"
             ],
             [
              1,
              "#f0f921"
             ]
            ],
            "type": "surface"
           }
          ],
          "table": [
           {
            "cells": {
             "fill": {
              "color": "#EBF0F8"
             },
             "line": {
              "color": "white"
             }
            },
            "header": {
             "fill": {
              "color": "#C8D4E3"
             },
             "line": {
              "color": "white"
             }
            },
            "type": "table"
           }
          ]
         },
         "layout": {
          "annotationdefaults": {
           "arrowcolor": "#2a3f5f",
           "arrowhead": 0,
           "arrowwidth": 1
          },
          "autotypenumbers": "strict",
          "coloraxis": {
           "colorbar": {
            "outlinewidth": 0,
            "ticks": ""
           }
          },
          "colorscale": {
           "diverging": [
            [
             0,
             "#8e0152"
            ],
            [
             0.1,
             "#c51b7d"
            ],
            [
             0.2,
             "#de77ae"
            ],
            [
             0.3,
             "#f1b6da"
            ],
            [
             0.4,
             "#fde0ef"
            ],
            [
             0.5,
             "#f7f7f7"
            ],
            [
             0.6,
             "#e6f5d0"
            ],
            [
             0.7,
             "#b8e186"
            ],
            [
             0.8,
             "#7fbc41"
            ],
            [
             0.9,
             "#4d9221"
            ],
            [
             1,
             "#276419"
            ]
           ],
           "sequential": [
            [
             0,
             "#0d0887"
            ],
            [
             0.1111111111111111,
             "#46039f"
            ],
            [
             0.2222222222222222,
             "#7201a8"
            ],
            [
             0.3333333333333333,
             "#9c179e"
            ],
            [
             0.4444444444444444,
             "#bd3786"
            ],
            [
             0.5555555555555556,
             "#d8576b"
            ],
            [
             0.6666666666666666,
             "#ed7953"
            ],
            [
             0.7777777777777778,
             "#fb9f3a"
            ],
            [
             0.8888888888888888,
             "#fdca26"
            ],
            [
             1,
             "#f0f921"
            ]
           ],
           "sequentialminus": [
            [
             0,
             "#0d0887"
            ],
            [
             0.1111111111111111,
             "#46039f"
            ],
            [
             0.2222222222222222,
             "#7201a8"
            ],
            [
             0.3333333333333333,
             "#9c179e"
            ],
            [
             0.4444444444444444,
             "#bd3786"
            ],
            [
             0.5555555555555556,
             "#d8576b"
            ],
            [
             0.6666666666666666,
             "#ed7953"
            ],
            [
             0.7777777777777778,
             "#fb9f3a"
            ],
            [
             0.8888888888888888,
             "#fdca26"
            ],
            [
             1,
             "#f0f921"
            ]
           ]
          },
          "colorway": [
           "#636efa",
           "#EF553B",
           "#00cc96",
           "#ab63fa",
           "#FFA15A",
           "#19d3f3",
           "#FF6692",
           "#B6E880",
           "#FF97FF",
           "#FECB52"
          ],
          "font": {
           "color": "#2a3f5f"
          },
          "geo": {
           "bgcolor": "white",
           "lakecolor": "white",
           "landcolor": "#E5ECF6",
           "showlakes": true,
           "showland": true,
           "subunitcolor": "white"
          },
          "hoverlabel": {
           "align": "left"
          },
          "hovermode": "closest",
          "mapbox": {
           "style": "light"
          },
          "paper_bgcolor": "white",
          "plot_bgcolor": "#E5ECF6",
          "polar": {
           "angularaxis": {
            "gridcolor": "white",
            "linecolor": "white",
            "ticks": ""
           },
           "bgcolor": "#E5ECF6",
           "radialaxis": {
            "gridcolor": "white",
            "linecolor": "white",
            "ticks": ""
           }
          },
          "scene": {
           "xaxis": {
            "backgroundcolor": "#E5ECF6",
            "gridcolor": "white",
            "gridwidth": 2,
            "linecolor": "white",
            "showbackground": true,
            "ticks": "",
            "zerolinecolor": "white"
           },
           "yaxis": {
            "backgroundcolor": "#E5ECF6",
            "gridcolor": "white",
            "gridwidth": 2,
            "linecolor": "white",
            "showbackground": true,
            "ticks": "",
            "zerolinecolor": "white"
           },
           "zaxis": {
            "backgroundcolor": "#E5ECF6",
            "gridcolor": "white",
            "gridwidth": 2,
            "linecolor": "white",
            "showbackground": true,
            "ticks": "",
            "zerolinecolor": "white"
           }
          },
          "shapedefaults": {
           "line": {
            "color": "#2a3f5f"
           }
          },
          "ternary": {
           "aaxis": {
            "gridcolor": "white",
            "linecolor": "white",
            "ticks": ""
           },
           "baxis": {
            "gridcolor": "white",
            "linecolor": "white",
            "ticks": ""
           },
           "bgcolor": "#E5ECF6",
           "caxis": {
            "gridcolor": "white",
            "linecolor": "white",
            "ticks": ""
           }
          },
          "title": {
           "x": 0.05
          },
          "xaxis": {
           "automargin": true,
           "gridcolor": "white",
           "linecolor": "white",
           "ticks": "",
           "title": {
            "standoff": 15
           },
           "zerolinecolor": "white",
           "zerolinewidth": 2
          },
          "yaxis": {
           "automargin": true,
           "gridcolor": "white",
           "linecolor": "white",
           "ticks": "",
           "title": {
            "standoff": 15
           },
           "zerolinecolor": "white",
           "zerolinewidth": 2
          }
         }
        },
        "xaxis": {
         "anchor": "y",
         "domain": [
          0,
          1
         ],
         "title": {
          "text": "count"
         }
        },
        "yaxis": {
         "anchor": "x",
         "domain": [
          0,
          1
         ],
         "title": {
          "text": "Spending Score (1-100)"
         }
        }
       }
      },
      "text/html": [
       "<div>                            <div id=\"30ff21d6-f5a6-4312-9f11-105e1d5cb84a\" class=\"plotly-graph-div\" style=\"height:525px; width:100%;\"></div>            <script type=\"text/javascript\">                require([\"plotly\"], function(Plotly) {                    window.PLOTLYENV=window.PLOTLYENV || {};                                    if (document.getElementById(\"30ff21d6-f5a6-4312-9f11-105e1d5cb84a\")) {                    Plotly.newPlot(                        \"30ff21d6-f5a6-4312-9f11-105e1d5cb84a\",                        [{\"alignmentgroup\":\"True\",\"bingroup\":\"y\",\"hovertemplate\":\"Annual Income (k$)=93<br>count=%{x}<br>Spending Score (1-100)=%{y}<extra></extra>\",\"legendgroup\":\"93\",\"marker\":{\"color\":\"#636efa\",\"pattern\":{\"shape\":\"\"}},\"name\":\"93\",\"offsetgroup\":\"93\",\"orientation\":\"h\",\"showlegend\":true,\"xaxis\":\"x\",\"y\":[90,14],\"yaxis\":\"y\",\"type\":\"histogram\"},{\"alignmentgroup\":\"True\",\"bingroup\":\"y\",\"hovertemplate\":\"Annual Income (k$)=44<br>count=%{x}<br>Spending Score (1-100)=%{y}<extra></extra>\",\"legendgroup\":\"44\",\"marker\":{\"color\":\"#EF553B\",\"pattern\":{\"shape\":\"\"}},\"name\":\"44\",\"offsetgroup\":\"44\",\"orientation\":\"h\",\"showlegend\":true,\"xaxis\":\"x\",\"y\":[50,46],\"yaxis\":\"y\",\"type\":\"histogram\"},{\"alignmentgroup\":\"True\",\"bingroup\":\"y\",\"hovertemplate\":\"Annual Income (k$)=63<br>count=%{x}<br>Spending Score (1-100)=%{y}<extra></extra>\",\"legendgroup\":\"63\",\"marker\":{\"color\":\"#00cc96\",\"pattern\":{\"shape\":\"\"}},\"name\":\"63\",\"offsetgroup\":\"63\",\"orientation\":\"h\",\"showlegend\":true,\"xaxis\":\"x\",\"y\":[52,43,50,46,54,48],\"yaxis\":\"y\",\"type\":\"histogram\"},{\"alignmentgroup\":\"True\",\"bingroup\":\"y\",\"hovertemplate\":\"Annual Income (k$)=33<br>count=%{x}<br>Spending Score (1-100)=%{y}<extra></extra>\",\"legendgroup\":\"33\",\"marker\":{\"color\":\"#ab63fa\",\"pattern\":{\"shape\":\"\"}},\"name\":\"33\",\"offsetgroup\":\"33\",\"orientation\":\"h\",\"showlegend\":true,\"xaxis\":\"x\",\"y\":[14,92,4,81],\"yaxis\":\"y\",\"type\":\"histogram\"},{\"alignmentgroup\":\"True\",\"bingroup\":\"y\",\"hovertemplate\":\"Annual Income (k$)=58<br>count=%{x}<br>Spending Score (1-100)=%{y}<extra></extra>\",\"legendgroup\":\"58\",\"marker\":{\"color\":\"#FFA15A\",\"pattern\":{\"shape\":\"\"}},\"name\":\"58\",\"offsetgroup\":\"58\",\"orientation\":\"h\",\"showlegend\":true,\"xaxis\":\"x\",\"y\":[60,46],\"yaxis\":\"y\",\"type\":\"histogram\"},{\"alignmentgroup\":\"True\",\"bingroup\":\"y\",\"hovertemplate\":\"Annual Income (k$)=19<br>count=%{x}<br>Spending Score (1-100)=%{y}<extra></extra>\",\"legendgroup\":\"19\",\"marker\":{\"color\":\"#19d3f3\",\"pattern\":{\"shape\":\"\"}},\"name\":\"19\",\"offsetgroup\":\"19\",\"orientation\":\"h\",\"showlegend\":true,\"xaxis\":\"x\",\"y\":[99,72,14,3],\"yaxis\":\"y\",\"type\":\"histogram\"},{\"alignmentgroup\":\"True\",\"bingroup\":\"y\",\"hovertemplate\":\"Annual Income (k$)=23<br>count=%{x}<br>Spending Score (1-100)=%{y}<extra></extra>\",\"legendgroup\":\"23\",\"marker\":{\"color\":\"#FF6692\",\"pattern\":{\"shape\":\"\"}},\"name\":\"23\",\"offsetgroup\":\"23\",\"orientation\":\"h\",\"showlegend\":true,\"xaxis\":\"x\",\"y\":[29,98],\"yaxis\":\"y\",\"type\":\"histogram\"},{\"alignmentgroup\":\"True\",\"bingroup\":\"y\",\"hovertemplate\":\"Annual Income (k$)=77<br>count=%{x}<br>Spending Score (1-100)=%{y}<extra></extra>\",\"legendgroup\":\"77\",\"marker\":{\"color\":\"#B6E880\",\"pattern\":{\"shape\":\"\"}},\"name\":\"77\",\"offsetgroup\":\"77\",\"orientation\":\"h\",\"showlegend\":true,\"xaxis\":\"x\",\"y\":[97,12,74,36],\"yaxis\":\"y\",\"type\":\"histogram\"},{\"alignmentgroup\":\"True\",\"bingroup\":\"y\",\"hovertemplate\":\"Annual Income (k$)=60<br>count=%{x}<br>Spending Score (1-100)=%{y}<extra></extra>\",\"legendgroup\":\"60\",\"marker\":{\"color\":\"#FF97FF\",\"pattern\":{\"shape\":\"\"}},\"name\":\"60\",\"offsetgroup\":\"60\",\"orientation\":\"h\",\"showlegend\":true,\"xaxis\":\"x\",\"y\":[52,47,42,40,50,49],\"yaxis\":\"y\",\"type\":\"histogram\"},{\"alignmentgroup\":\"True\",\"bingroup\":\"y\",\"hovertemplate\":\"Annual Income (k$)=17<br>count=%{x}<br>Spending Score (1-100)=%{y}<extra></extra>\",\"legendgroup\":\"17\",\"marker\":{\"color\":\"#FECB52\",\"pattern\":{\"shape\":\"\"}},\"name\":\"17\",\"offsetgroup\":\"17\",\"orientation\":\"h\",\"showlegend\":true,\"xaxis\":\"x\",\"y\":[40,76],\"yaxis\":\"y\",\"type\":\"histogram\"},{\"alignmentgroup\":\"True\",\"bingroup\":\"y\",\"hovertemplate\":\"Annual Income (k$)=76<br>count=%{x}<br>Spending Score (1-100)=%{y}<extra></extra>\",\"legendgroup\":\"76\",\"marker\":{\"color\":\"#636efa\",\"pattern\":{\"shape\":\"\"}},\"name\":\"76\",\"offsetgroup\":\"76\",\"orientation\":\"h\",\"showlegend\":true,\"xaxis\":\"x\",\"y\":[87,40],\"yaxis\":\"y\",\"type\":\"histogram\"},{\"alignmentgroup\":\"True\",\"bingroup\":\"y\",\"hovertemplate\":\"Annual Income (k$)=59<br>count=%{x}<br>Spending Score (1-100)=%{y}<extra></extra>\",\"legendgroup\":\"59\",\"marker\":{\"color\":\"#EF553B\",\"pattern\":{\"shape\":\"\"}},\"name\":\"59\",\"offsetgroup\":\"59\",\"orientation\":\"h\",\"showlegend\":true,\"xaxis\":\"x\",\"y\":[55,41],\"yaxis\":\"y\",\"type\":\"histogram\"},{\"alignmentgroup\":\"True\",\"bingroup\":\"y\",\"hovertemplate\":\"Annual Income (k$)=62<br>count=%{x}<br>Spending Score (1-100)=%{y}<extra></extra>\",\"legendgroup\":\"62\",\"marker\":{\"color\":\"#00cc96\",\"pattern\":{\"shape\":\"\"}},\"name\":\"62\",\"offsetgroup\":\"62\",\"orientation\":\"h\",\"showlegend\":true,\"xaxis\":\"x\",\"y\":[59,41,55,42,48,56],\"yaxis\":\"y\",\"type\":\"histogram\"},{\"alignmentgroup\":\"True\",\"bingroup\":\"y\",\"hovertemplate\":\"Annual Income (k$)=101<br>count=%{x}<br>Spending Score (1-100)=%{y}<extra></extra>\",\"legendgroup\":\"101\",\"marker\":{\"color\":\"#ab63fa\",\"pattern\":{\"shape\":\"\"}},\"name\":\"101\",\"offsetgroup\":\"101\",\"orientation\":\"h\",\"showlegend\":true,\"xaxis\":\"x\",\"y\":[24,68],\"yaxis\":\"y\",\"type\":\"histogram\"},{\"alignmentgroup\":\"True\",\"bingroup\":\"y\",\"hovertemplate\":\"Annual Income (k$)=42<br>count=%{x}<br>Spending Score (1-100)=%{y}<extra></extra>\",\"legendgroup\":\"42\",\"marker\":{\"color\":\"#FFA15A\",\"pattern\":{\"shape\":\"\"}},\"name\":\"42\",\"offsetgroup\":\"42\",\"orientation\":\"h\",\"showlegend\":true,\"xaxis\":\"x\",\"y\":[52,60],\"yaxis\":\"y\",\"type\":\"histogram\"},{\"alignmentgroup\":\"True\",\"bingroup\":\"y\",\"hovertemplate\":\"Annual Income (k$)=40<br>count=%{x}<br>Spending Score (1-100)=%{y}<extra></extra>\",\"legendgroup\":\"40\",\"marker\":{\"color\":\"#19d3f3\",\"pattern\":{\"shape\":\"\"}},\"name\":\"40\",\"offsetgroup\":\"40\",\"orientation\":\"h\",\"showlegend\":true,\"xaxis\":\"x\",\"y\":[55,42,42,47],\"yaxis\":\"y\",\"type\":\"histogram\"},{\"alignmentgroup\":\"True\",\"bingroup\":\"y\",\"hovertemplate\":\"Annual Income (k$)=67<br>count=%{x}<br>Spending Score (1-100)=%{y}<extra></extra>\",\"legendgroup\":\"67\",\"marker\":{\"color\":\"#FF6692\",\"pattern\":{\"shape\":\"\"}},\"name\":\"67\",\"offsetgroup\":\"67\",\"orientation\":\"h\",\"showlegend\":true,\"xaxis\":\"x\",\"y\":[57,40,43,56],\"yaxis\":\"y\",\"type\":\"histogram\"},{\"alignmentgroup\":\"True\",\"bingroup\":\"y\",\"hovertemplate\":\"Annual Income (k$)=97<br>count=%{x}<br>Spending Score (1-100)=%{y}<extra></extra>\",\"legendgroup\":\"97\",\"marker\":{\"color\":\"#B6E880\",\"pattern\":{\"shape\":\"\"}},\"name\":\"97\",\"offsetgroup\":\"97\",\"orientation\":\"h\",\"showlegend\":true,\"xaxis\":\"x\",\"y\":[86,32],\"yaxis\":\"y\",\"type\":\"histogram\"},{\"alignmentgroup\":\"True\",\"bingroup\":\"y\",\"hovertemplate\":\"Annual Income (k$)=98<br>count=%{x}<br>Spending Score (1-100)=%{y}<extra></extra>\",\"legendgroup\":\"98\",\"marker\":{\"color\":\"#FF97FF\",\"pattern\":{\"shape\":\"\"}},\"name\":\"98\",\"offsetgroup\":\"98\",\"orientation\":\"h\",\"showlegend\":true,\"xaxis\":\"x\",\"y\":[88,15],\"yaxis\":\"y\",\"type\":\"histogram\"},{\"alignmentgroup\":\"True\",\"bingroup\":\"y\",\"hovertemplate\":\"Annual Income (k$)=39<br>count=%{x}<br>Spending Score (1-100)=%{y}<extra></extra>\",\"legendgroup\":\"39\",\"marker\":{\"color\":\"#FECB52\",\"pattern\":{\"shape\":\"\"}},\"name\":\"39\",\"offsetgroup\":\"39\",\"orientation\":\"h\",\"showlegend\":true,\"xaxis\":\"x\",\"y\":[65,61,36,28],\"yaxis\":\"y\",\"type\":\"histogram\"},{\"alignmentgroup\":\"True\",\"bingroup\":\"y\",\"hovertemplate\":\"Annual Income (k$)=34<br>count=%{x}<br>Spending Score (1-100)=%{y}<extra></extra>\",\"legendgroup\":\"34\",\"marker\":{\"color\":\"#636efa\",\"pattern\":{\"shape\":\"\"}},\"name\":\"34\",\"offsetgroup\":\"34\",\"orientation\":\"h\",\"showlegend\":true,\"xaxis\":\"x\",\"y\":[73,17],\"yaxis\":\"y\",\"type\":\"histogram\"},{\"alignmentgroup\":\"True\",\"bingroup\":\"y\",\"hovertemplate\":\"Annual Income (k$)=126<br>count=%{x}<br>Spending Score (1-100)=%{y}<extra></extra>\",\"legendgroup\":\"126\",\"marker\":{\"color\":\"#EF553B\",\"pattern\":{\"shape\":\"\"}},\"name\":\"126\",\"offsetgroup\":\"126\",\"orientation\":\"h\",\"showlegend\":true,\"xaxis\":\"x\",\"y\":[74,28],\"yaxis\":\"y\",\"type\":\"histogram\"},{\"alignmentgroup\":\"True\",\"bingroup\":\"y\",\"hovertemplate\":\"Annual Income (k$)=87<br>count=%{x}<br>Spending Score (1-100)=%{y}<extra></extra>\",\"legendgroup\":\"87\",\"marker\":{\"color\":\"#00cc96\",\"pattern\":{\"shape\":\"\"}},\"name\":\"87\",\"offsetgroup\":\"87\",\"orientation\":\"h\",\"showlegend\":true,\"xaxis\":\"x\",\"y\":[92,63,27,13,75,10],\"yaxis\":\"y\",\"type\":\"histogram\"},{\"alignmentgroup\":\"True\",\"bingroup\":\"y\",\"hovertemplate\":\"Annual Income (k$)=28<br>count=%{x}<br>Spending Score (1-100)=%{y}<extra></extra>\",\"legendgroup\":\"28\",\"marker\":{\"color\":\"#ab63fa\",\"pattern\":{\"shape\":\"\"}},\"name\":\"28\",\"offsetgroup\":\"28\",\"orientation\":\"h\",\"showlegend\":true,\"xaxis\":\"x\",\"y\":[14,82,61,32],\"yaxis\":\"y\",\"type\":\"histogram\"},{\"alignmentgroup\":\"True\",\"bingroup\":\"y\",\"hovertemplate\":\"Annual Income (k$)=73<br>count=%{x}<br>Spending Score (1-100)=%{y}<extra></extra>\",\"legendgroup\":\"73\",\"marker\":{\"color\":\"#FFA15A\",\"pattern\":{\"shape\":\"\"}},\"name\":\"73\",\"offsetgroup\":\"73\",\"orientation\":\"h\",\"showlegend\":true,\"xaxis\":\"x\",\"y\":[88,7,73,5],\"yaxis\":\"y\",\"type\":\"histogram\"},{\"alignmentgroup\":\"True\",\"bingroup\":\"y\",\"hovertemplate\":\"Annual Income (k$)=37<br>count=%{x}<br>Spending Score (1-100)=%{y}<extra></extra>\",\"legendgroup\":\"37\",\"marker\":{\"color\":\"#19d3f3\",\"pattern\":{\"shape\":\"\"}},\"name\":\"37\",\"offsetgroup\":\"37\",\"orientation\":\"h\",\"showlegend\":true,\"xaxis\":\"x\",\"y\":[75,26],\"yaxis\":\"y\",\"type\":\"histogram\"},{\"alignmentgroup\":\"True\",\"bingroup\":\"y\",\"hovertemplate\":\"Annual Income (k$)=103<br>count=%{x}<br>Spending Score (1-100)=%{y}<extra></extra>\",\"legendgroup\":\"103\",\"marker\":{\"color\":\"#FF6692\",\"pattern\":{\"shape\":\"\"}},\"name\":\"103\",\"offsetgroup\":\"103\",\"orientation\":\"h\",\"showlegend\":true,\"xaxis\":\"x\",\"y\":[23,69,85,17],\"yaxis\":\"y\",\"type\":\"histogram\"},{\"alignmentgroup\":\"True\",\"bingroup\":\"y\",\"hovertemplate\":\"Annual Income (k$)=64<br>count=%{x}<br>Spending Score (1-100)=%{y}<extra></extra>\",\"legendgroup\":\"64\",\"marker\":{\"color\":\"#B6E880\",\"pattern\":{\"shape\":\"\"}},\"name\":\"64\",\"offsetgroup\":\"64\",\"orientation\":\"h\",\"showlegend\":true,\"xaxis\":\"x\",\"y\":[42,46],\"yaxis\":\"y\",\"type\":\"histogram\"},{\"alignmentgroup\":\"True\",\"bingroup\":\"y\",\"hovertemplate\":\"Annual Income (k$)=48<br>count=%{x}<br>Spending Score (1-100)=%{y}<extra></extra>\",\"legendgroup\":\"48\",\"marker\":{\"color\":\"#FF97FF\",\"pattern\":{\"shape\":\"\"}},\"name\":\"48\",\"offsetgroup\":\"48\",\"orientation\":\"h\",\"showlegend\":true,\"xaxis\":\"x\",\"y\":[59,59,48,47,50,51],\"yaxis\":\"y\",\"type\":\"histogram\"},{\"alignmentgroup\":\"True\",\"bingroup\":\"y\",\"hovertemplate\":\"Annual Income (k$)=88<br>count=%{x}<br>Spending Score (1-100)=%{y}<extra></extra>\",\"legendgroup\":\"88\",\"marker\":{\"color\":\"#FECB52\",\"pattern\":{\"shape\":\"\"}},\"name\":\"88\",\"offsetgroup\":\"88\",\"orientation\":\"h\",\"showlegend\":true,\"xaxis\":\"x\",\"y\":[15,69,13,86],\"yaxis\":\"y\",\"type\":\"histogram\"},{\"alignmentgroup\":\"True\",\"bingroup\":\"y\",\"hovertemplate\":\"Annual Income (k$)=70<br>count=%{x}<br>Spending Score (1-100)=%{y}<extra></extra>\",\"legendgroup\":\"70\",\"marker\":{\"color\":\"#636efa\",\"pattern\":{\"shape\":\"\"}},\"name\":\"70\",\"offsetgroup\":\"70\",\"orientation\":\"h\",\"showlegend\":true,\"xaxis\":\"x\",\"y\":[29,77],\"yaxis\":\"y\",\"type\":\"histogram\"},{\"alignmentgroup\":\"True\",\"bingroup\":\"y\",\"hovertemplate\":\"Annual Income (k$)=65<br>count=%{x}<br>Spending Score (1-100)=%{y}<extra></extra>\",\"legendgroup\":\"65\",\"marker\":{\"color\":\"#EF553B\",\"pattern\":{\"shape\":\"\"}},\"name\":\"65\",\"offsetgroup\":\"65\",\"orientation\":\"h\",\"showlegend\":true,\"xaxis\":\"x\",\"y\":[59,50,48,43],\"yaxis\":\"y\",\"type\":\"histogram\"},{\"alignmentgroup\":\"True\",\"bingroup\":\"y\",\"hovertemplate\":\"Annual Income (k$)=54<br>count=%{x}<br>Spending Score (1-100)=%{y}<extra></extra>\",\"legendgroup\":\"54\",\"marker\":{\"color\":\"#00cc96\",\"pattern\":{\"shape\":\"\"}},\"name\":\"54\",\"offsetgroup\":\"54\",\"orientation\":\"h\",\"showlegend\":true,\"xaxis\":\"x\",\"y\":[52,47,44,41,42,55,48,53,54,46,51,57],\"yaxis\":\"y\",\"type\":\"histogram\"},{\"alignmentgroup\":\"True\",\"bingroup\":\"y\",\"hovertemplate\":\"Annual Income (k$)=15<br>count=%{x}<br>Spending Score (1-100)=%{y}<extra></extra>\",\"legendgroup\":\"15\",\"marker\":{\"color\":\"#ab63fa\",\"pattern\":{\"shape\":\"\"}},\"name\":\"15\",\"offsetgroup\":\"15\",\"orientation\":\"h\",\"showlegend\":true,\"xaxis\":\"x\",\"y\":[81,39],\"yaxis\":\"y\",\"type\":\"histogram\"},{\"alignmentgroup\":\"True\",\"bingroup\":\"y\",\"hovertemplate\":\"Annual Income (k$)=85<br>count=%{x}<br>Spending Score (1-100)=%{y}<extra></extra>\",\"legendgroup\":\"85\",\"marker\":{\"color\":\"#FFA15A\",\"pattern\":{\"shape\":\"\"}},\"name\":\"85\",\"offsetgroup\":\"85\",\"orientation\":\"h\",\"showlegend\":true,\"xaxis\":\"x\",\"y\":[26,75],\"yaxis\":\"y\",\"type\":\"histogram\"},{\"alignmentgroup\":\"True\",\"bingroup\":\"y\",\"hovertemplate\":\"Annual Income (k$)=30<br>count=%{x}<br>Spending Score (1-100)=%{y}<extra></extra>\",\"legendgroup\":\"30\",\"marker\":{\"color\":\"#19d3f3\",\"pattern\":{\"shape\":\"\"}},\"name\":\"30\",\"offsetgroup\":\"30\",\"orientation\":\"h\",\"showlegend\":true,\"xaxis\":\"x\",\"y\":[4,73],\"yaxis\":\"y\",\"type\":\"histogram\"},{\"alignmentgroup\":\"True\",\"bingroup\":\"y\",\"hovertemplate\":\"Annual Income (k$)=71<br>count=%{x}<br>Spending Score (1-100)=%{y}<extra></extra>\",\"legendgroup\":\"71\",\"marker\":{\"color\":\"#FF6692\",\"pattern\":{\"shape\":\"\"}},\"name\":\"71\",\"offsetgroup\":\"71\",\"orientation\":\"h\",\"showlegend\":true,\"xaxis\":\"x\",\"y\":[75,11,9,95,75,35],\"yaxis\":\"y\",\"type\":\"histogram\"},{\"alignmentgroup\":\"True\",\"bingroup\":\"y\",\"hovertemplate\":\"Annual Income (k$)=78<br>count=%{x}<br>Spending Score (1-100)=%{y}<extra></extra>\",\"legendgroup\":\"78\",\"marker\":{\"color\":\"#B6E880\",\"pattern\":{\"shape\":\"\"}},\"name\":\"78\",\"offsetgroup\":\"78\",\"orientation\":\"h\",\"showlegend\":true,\"xaxis\":\"x\",\"y\":[20,76,78,22,88,16,17,73,1,1,90,89],\"yaxis\":\"y\",\"type\":\"histogram\"},{\"alignmentgroup\":\"True\",\"bingroup\":\"y\",\"hovertemplate\":\"Annual Income (k$)=50<br>count=%{x}<br>Spending Score (1-100)=%{y}<extra></extra>\",\"legendgroup\":\"50\",\"marker\":{\"color\":\"#FF97FF\",\"pattern\":{\"shape\":\"\"}},\"name\":\"50\",\"offsetgroup\":\"50\",\"orientation\":\"h\",\"showlegend\":true,\"xaxis\":\"x\",\"y\":[49,56],\"yaxis\":\"y\",\"type\":\"histogram\"},{\"alignmentgroup\":\"True\",\"bingroup\":\"y\",\"hovertemplate\":\"Annual Income (k$)=79<br>count=%{x}<br>Spending Score (1-100)=%{y}<extra></extra>\",\"legendgroup\":\"79\",\"marker\":{\"color\":\"#FECB52\",\"pattern\":{\"shape\":\"\"}},\"name\":\"79\",\"offsetgroup\":\"79\",\"orientation\":\"h\",\"showlegend\":true,\"xaxis\":\"x\",\"y\":[35,83],\"yaxis\":\"y\",\"type\":\"histogram\"},{\"alignmentgroup\":\"True\",\"bingroup\":\"y\",\"hovertemplate\":\"Annual Income (k$)=20<br>count=%{x}<br>Spending Score (1-100)=%{y}<extra></extra>\",\"legendgroup\":\"20\",\"marker\":{\"color\":\"#636efa\",\"pattern\":{\"shape\":\"\"}},\"name\":\"20\",\"offsetgroup\":\"20\",\"orientation\":\"h\",\"showlegend\":true,\"xaxis\":\"x\",\"y\":[79,77,13,15],\"yaxis\":\"y\",\"type\":\"histogram\"},{\"alignmentgroup\":\"True\",\"bingroup\":\"y\",\"hovertemplate\":\"Annual Income (k$)=81<br>count=%{x}<br>Spending Score (1-100)=%{y}<extra></extra>\",\"legendgroup\":\"81\",\"marker\":{\"color\":\"#EF553B\",\"pattern\":{\"shape\":\"\"}},\"name\":\"81\",\"offsetgroup\":\"81\",\"orientation\":\"h\",\"showlegend\":true,\"xaxis\":\"x\",\"y\":[5,93],\"yaxis\":\"y\",\"type\":\"histogram\"},{\"alignmentgroup\":\"True\",\"bingroup\":\"y\",\"hovertemplate\":\"Annual Income (k$)=47<br>count=%{x}<br>Spending Score (1-100)=%{y}<extra></extra>\",\"legendgroup\":\"47\",\"marker\":{\"color\":\"#00cc96\",\"pattern\":{\"shape\":\"\"}},\"name\":\"47\",\"offsetgroup\":\"47\",\"orientation\":\"h\",\"showlegend\":true,\"xaxis\":\"x\",\"y\":[52,59],\"yaxis\":\"y\",\"type\":\"histogram\"},{\"alignmentgroup\":\"True\",\"bingroup\":\"y\",\"hovertemplate\":\"Annual Income (k$)=25<br>count=%{x}<br>Spending Score (1-100)=%{y}<extra></extra>\",\"legendgroup\":\"25\",\"marker\":{\"color\":\"#ab63fa\",\"pattern\":{\"shape\":\"\"}},\"name\":\"25\",\"offsetgroup\":\"25\",\"orientation\":\"h\",\"showlegend\":true,\"xaxis\":\"x\",\"y\":[5,73],\"yaxis\":\"y\",\"type\":\"histogram\"},{\"alignmentgroup\":\"True\",\"bingroup\":\"y\",\"hovertemplate\":\"Annual Income (k$)=61<br>count=%{x}<br>Spending Score (1-100)=%{y}<extra></extra>\",\"legendgroup\":\"61\",\"marker\":{\"color\":\"#FFA15A\",\"pattern\":{\"shape\":\"\"}},\"name\":\"61\",\"offsetgroup\":\"61\",\"orientation\":\"h\",\"showlegend\":true,\"xaxis\":\"x\",\"y\":[42,49],\"yaxis\":\"y\",\"type\":\"histogram\"},{\"alignmentgroup\":\"True\",\"bingroup\":\"y\",\"hovertemplate\":\"Annual Income (k$)=75<br>count=%{x}<br>Spending Score (1-100)=%{y}<extra></extra>\",\"legendgroup\":\"75\",\"marker\":{\"color\":\"#19d3f3\",\"pattern\":{\"shape\":\"\"}},\"name\":\"75\",\"offsetgroup\":\"75\",\"orientation\":\"h\",\"showlegend\":true,\"xaxis\":\"x\",\"y\":[93,5],\"yaxis\":\"y\",\"type\":\"histogram\"},{\"alignmentgroup\":\"True\",\"bingroup\":\"y\",\"hovertemplate\":\"Annual Income (k$)=113<br>count=%{x}<br>Spending Score (1-100)=%{y}<extra></extra>\",\"legendgroup\":\"113\",\"marker\":{\"color\":\"#FF6692\",\"pattern\":{\"shape\":\"\"}},\"name\":\"113\",\"offsetgroup\":\"113\",\"orientation\":\"h\",\"showlegend\":true,\"xaxis\":\"x\",\"y\":[8,91],\"yaxis\":\"y\",\"type\":\"histogram\"},{\"alignmentgroup\":\"True\",\"bingroup\":\"y\",\"hovertemplate\":\"Annual Income (k$)=16<br>count=%{x}<br>Spending Score (1-100)=%{y}<extra></extra>\",\"legendgroup\":\"16\",\"marker\":{\"color\":\"#B6E880\",\"pattern\":{\"shape\":\"\"}},\"name\":\"16\",\"offsetgroup\":\"16\",\"orientation\":\"h\",\"showlegend\":true,\"xaxis\":\"x\",\"y\":[6,77],\"yaxis\":\"y\",\"type\":\"histogram\"},{\"alignmentgroup\":\"True\",\"bingroup\":\"y\",\"hovertemplate\":\"Annual Income (k$)=137<br>count=%{x}<br>Spending Score (1-100)=%{y}<extra></extra>\",\"legendgroup\":\"137\",\"marker\":{\"color\":\"#FF97FF\",\"pattern\":{\"shape\":\"\"}},\"name\":\"137\",\"offsetgroup\":\"137\",\"orientation\":\"h\",\"showlegend\":true,\"xaxis\":\"x\",\"y\":[83,18],\"yaxis\":\"y\",\"type\":\"histogram\"},{\"alignmentgroup\":\"True\",\"bingroup\":\"y\",\"hovertemplate\":\"Annual Income (k$)=72<br>count=%{x}<br>Spending Score (1-100)=%{y}<extra></extra>\",\"legendgroup\":\"72\",\"marker\":{\"color\":\"#FECB52\",\"pattern\":{\"shape\":\"\"}},\"name\":\"72\",\"offsetgroup\":\"72\",\"orientation\":\"h\",\"showlegend\":true,\"xaxis\":\"x\",\"y\":[34,71],\"yaxis\":\"y\",\"type\":\"histogram\"},{\"alignmentgroup\":\"True\",\"bingroup\":\"y\",\"hovertemplate\":\"Annual Income (k$)=46<br>count=%{x}<br>Spending Score (1-100)=%{y}<extra></extra>\",\"legendgroup\":\"46\",\"marker\":{\"color\":\"#636efa\",\"pattern\":{\"shape\":\"\"}},\"name\":\"46\",\"offsetgroup\":\"46\",\"orientation\":\"h\",\"showlegend\":true,\"xaxis\":\"x\",\"y\":[56,55,51,46],\"yaxis\":\"y\",\"type\":\"histogram\"},{\"alignmentgroup\":\"True\",\"bingroup\":\"y\",\"hovertemplate\":\"Annual Income (k$)=49<br>count=%{x}<br>Spending Score (1-100)=%{y}<extra></extra>\",\"legendgroup\":\"49\",\"marker\":{\"color\":\"#EF553B\",\"pattern\":{\"shape\":\"\"}},\"name\":\"49\",\"offsetgroup\":\"49\",\"orientation\":\"h\",\"showlegend\":true,\"xaxis\":\"x\",\"y\":[55,42],\"yaxis\":\"y\",\"type\":\"histogram\"},{\"alignmentgroup\":\"True\",\"bingroup\":\"y\",\"hovertemplate\":\"Annual Income (k$)=99<br>count=%{x}<br>Spending Score (1-100)=%{y}<extra></extra>\",\"legendgroup\":\"99\",\"marker\":{\"color\":\"#00cc96\",\"pattern\":{\"shape\":\"\"}},\"name\":\"99\",\"offsetgroup\":\"99\",\"orientation\":\"h\",\"showlegend\":true,\"xaxis\":\"x\",\"y\":[97,39],\"yaxis\":\"y\",\"type\":\"histogram\"},{\"alignmentgroup\":\"True\",\"bingroup\":\"y\",\"hovertemplate\":\"Annual Income (k$)=24<br>count=%{x}<br>Spending Score (1-100)=%{y}<extra></extra>\",\"legendgroup\":\"24\",\"marker\":{\"color\":\"#ab63fa\",\"pattern\":{\"shape\":\"\"}},\"name\":\"24\",\"offsetgroup\":\"24\",\"orientation\":\"h\",\"showlegend\":true,\"xaxis\":\"x\",\"y\":[35,73],\"yaxis\":\"y\",\"type\":\"histogram\"},{\"alignmentgroup\":\"True\",\"bingroup\":\"y\",\"hovertemplate\":\"Annual Income (k$)=86<br>count=%{x}<br>Spending Score (1-100)=%{y}<extra></extra>\",\"legendgroup\":\"86\",\"marker\":{\"color\":\"#FFA15A\",\"pattern\":{\"shape\":\"\"}},\"name\":\"86\",\"offsetgroup\":\"86\",\"orientation\":\"h\",\"showlegend\":true,\"xaxis\":\"x\",\"y\":[20,95],\"yaxis\":\"y\",\"type\":\"histogram\"},{\"alignmentgroup\":\"True\",\"bingroup\":\"y\",\"hovertemplate\":\"Annual Income (k$)=43<br>count=%{x}<br>Spending Score (1-100)=%{y}<extra></extra>\",\"legendgroup\":\"43\",\"marker\":{\"color\":\"#19d3f3\",\"pattern\":{\"shape\":\"\"}},\"name\":\"43\",\"offsetgroup\":\"43\",\"orientation\":\"h\",\"showlegend\":true,\"xaxis\":\"x\",\"y\":[45,54,60,41],\"yaxis\":\"y\",\"type\":\"histogram\"},{\"alignmentgroup\":\"True\",\"bingroup\":\"y\",\"hovertemplate\":\"Annual Income (k$)=69<br>count=%{x}<br>Spending Score (1-100)=%{y}<extra></extra>\",\"legendgroup\":\"69\",\"marker\":{\"color\":\"#FF6692\",\"pattern\":{\"shape\":\"\"}},\"name\":\"69\",\"offsetgroup\":\"69\",\"orientation\":\"h\",\"showlegend\":true,\"xaxis\":\"x\",\"y\":[91,58],\"yaxis\":\"y\",\"type\":\"histogram\"},{\"alignmentgroup\":\"True\",\"bingroup\":\"y\",\"hovertemplate\":\"Annual Income (k$)=29<br>count=%{x}<br>Spending Score (1-100)=%{y}<extra></extra>\",\"legendgroup\":\"29\",\"marker\":{\"color\":\"#B6E880\",\"pattern\":{\"shape\":\"\"}},\"name\":\"29\",\"offsetgroup\":\"29\",\"orientation\":\"h\",\"showlegend\":true,\"xaxis\":\"x\",\"y\":[31,87],\"yaxis\":\"y\",\"type\":\"histogram\"},{\"alignmentgroup\":\"True\",\"bingroup\":\"y\",\"hovertemplate\":\"Annual Income (k$)=120<br>count=%{x}<br>Spending Score (1-100)=%{y}<extra></extra>\",\"legendgroup\":\"120\",\"marker\":{\"color\":\"#FF97FF\",\"pattern\":{\"shape\":\"\"}},\"name\":\"120\",\"offsetgroup\":\"120\",\"orientation\":\"h\",\"showlegend\":true,\"xaxis\":\"x\",\"y\":[16,79],\"yaxis\":\"y\",\"type\":\"histogram\"},{\"alignmentgroup\":\"True\",\"bingroup\":\"y\",\"hovertemplate\":\"Annual Income (k$)=21<br>count=%{x}<br>Spending Score (1-100)=%{y}<extra></extra>\",\"legendgroup\":\"21\",\"marker\":{\"color\":\"#FECB52\",\"pattern\":{\"shape\":\"\"}},\"name\":\"21\",\"offsetgroup\":\"21\",\"orientation\":\"h\",\"showlegend\":true,\"xaxis\":\"x\",\"y\":[66,35],\"yaxis\":\"y\",\"type\":\"histogram\"},{\"alignmentgroup\":\"True\",\"bingroup\":\"y\",\"hovertemplate\":\"Annual Income (k$)=57<br>count=%{x}<br>Spending Score (1-100)=%{y}<extra></extra>\",\"legendgroup\":\"57\",\"marker\":{\"color\":\"#636efa\",\"pattern\":{\"shape\":\"\"}},\"name\":\"57\",\"offsetgroup\":\"57\",\"orientation\":\"h\",\"showlegend\":true,\"xaxis\":\"x\",\"y\":[55,58],\"yaxis\":\"y\",\"type\":\"histogram\"},{\"alignmentgroup\":\"True\",\"bingroup\":\"y\",\"hovertemplate\":\"Annual Income (k$)=18<br>count=%{x}<br>Spending Score (1-100)=%{y}<extra></extra>\",\"legendgroup\":\"18\",\"marker\":{\"color\":\"#EF553B\",\"pattern\":{\"shape\":\"\"}},\"name\":\"18\",\"offsetgroup\":\"18\",\"orientation\":\"h\",\"showlegend\":true,\"xaxis\":\"x\",\"y\":[6,94],\"yaxis\":\"y\",\"type\":\"histogram\"},{\"alignmentgroup\":\"True\",\"bingroup\":\"y\",\"hovertemplate\":\"Annual Income (k$)=74<br>count=%{x}<br>Spending Score (1-100)=%{y}<extra></extra>\",\"legendgroup\":\"74\",\"marker\":{\"color\":\"#00cc96\",\"pattern\":{\"shape\":\"\"}},\"name\":\"74\",\"offsetgroup\":\"74\",\"orientation\":\"h\",\"showlegend\":true,\"xaxis\":\"x\",\"y\":[72,10],\"yaxis\":\"y\",\"type\":\"histogram\"},{\"alignmentgroup\":\"True\",\"bingroup\":\"y\",\"hovertemplate\":\"Annual Income (k$)=38<br>count=%{x}<br>Spending Score (1-100)=%{y}<extra></extra>\",\"legendgroup\":\"38\",\"marker\":{\"color\":\"#ab63fa\",\"pattern\":{\"shape\":\"\"}},\"name\":\"38\",\"offsetgroup\":\"38\",\"orientation\":\"h\",\"showlegend\":true,\"xaxis\":\"x\",\"y\":[92,35],\"yaxis\":\"y\",\"type\":\"histogram\"}],                        {\"template\":{\"data\":{\"histogram2dcontour\":[{\"type\":\"histogram2dcontour\",\"colorbar\":{\"outlinewidth\":0,\"ticks\":\"\"},\"colorscale\":[[0.0,\"#0d0887\"],[0.1111111111111111,\"#46039f\"],[0.2222222222222222,\"#7201a8\"],[0.3333333333333333,\"#9c179e\"],[0.4444444444444444,\"#bd3786\"],[0.5555555555555556,\"#d8576b\"],[0.6666666666666666,\"#ed7953\"],[0.7777777777777778,\"#fb9f3a\"],[0.8888888888888888,\"#fdca26\"],[1.0,\"#f0f921\"]]}],\"choropleth\":[{\"type\":\"choropleth\",\"colorbar\":{\"outlinewidth\":0,\"ticks\":\"\"}}],\"histogram2d\":[{\"type\":\"histogram2d\",\"colorbar\":{\"outlinewidth\":0,\"ticks\":\"\"},\"colorscale\":[[0.0,\"#0d0887\"],[0.1111111111111111,\"#46039f\"],[0.2222222222222222,\"#7201a8\"],[0.3333333333333333,\"#9c179e\"],[0.4444444444444444,\"#bd3786\"],[0.5555555555555556,\"#d8576b\"],[0.6666666666666666,\"#ed7953\"],[0.7777777777777778,\"#fb9f3a\"],[0.8888888888888888,\"#fdca26\"],[1.0,\"#f0f921\"]]}],\"heatmap\":[{\"type\":\"heatmap\",\"colorbar\":{\"outlinewidth\":0,\"ticks\":\"\"},\"colorscale\":[[0.0,\"#0d0887\"],[0.1111111111111111,\"#46039f\"],[0.2222222222222222,\"#7201a8\"],[0.3333333333333333,\"#9c179e\"],[0.4444444444444444,\"#bd3786\"],[0.5555555555555556,\"#d8576b\"],[0.6666666666666666,\"#ed7953\"],[0.7777777777777778,\"#fb9f3a\"],[0.8888888888888888,\"#fdca26\"],[1.0,\"#f0f921\"]]}],\"heatmapgl\":[{\"type\":\"heatmapgl\",\"colorbar\":{\"outlinewidth\":0,\"ticks\":\"\"},\"colorscale\":[[0.0,\"#0d0887\"],[0.1111111111111111,\"#46039f\"],[0.2222222222222222,\"#7201a8\"],[0.3333333333333333,\"#9c179e\"],[0.4444444444444444,\"#bd3786\"],[0.5555555555555556,\"#d8576b\"],[0.6666666666666666,\"#ed7953\"],[0.7777777777777778,\"#fb9f3a\"],[0.8888888888888888,\"#fdca26\"],[1.0,\"#f0f921\"]]}],\"contourcarpet\":[{\"type\":\"contourcarpet\",\"colorbar\":{\"outlinewidth\":0,\"ticks\":\"\"}}],\"contour\":[{\"type\":\"contour\",\"colorbar\":{\"outlinewidth\":0,\"ticks\":\"\"},\"colorscale\":[[0.0,\"#0d0887\"],[0.1111111111111111,\"#46039f\"],[0.2222222222222222,\"#7201a8\"],[0.3333333333333333,\"#9c179e\"],[0.4444444444444444,\"#bd3786\"],[0.5555555555555556,\"#d8576b\"],[0.6666666666666666,\"#ed7953\"],[0.7777777777777778,\"#fb9f3a\"],[0.8888888888888888,\"#fdca26\"],[1.0,\"#f0f921\"]]}],\"surface\":[{\"type\":\"surface\",\"colorbar\":{\"outlinewidth\":0,\"ticks\":\"\"},\"colorscale\":[[0.0,\"#0d0887\"],[0.1111111111111111,\"#46039f\"],[0.2222222222222222,\"#7201a8\"],[0.3333333333333333,\"#9c179e\"],[0.4444444444444444,\"#bd3786\"],[0.5555555555555556,\"#d8576b\"],[0.6666666666666666,\"#ed7953\"],[0.7777777777777778,\"#fb9f3a\"],[0.8888888888888888,\"#fdca26\"],[1.0,\"#f0f921\"]]}],\"mesh3d\":[{\"type\":\"mesh3d\",\"colorbar\":{\"outlinewidth\":0,\"ticks\":\"\"}}],\"scatter\":[{\"fillpattern\":{\"fillmode\":\"overlay\",\"size\":10,\"solidity\":0.2},\"type\":\"scatter\"}],\"parcoords\":[{\"type\":\"parcoords\",\"line\":{\"colorbar\":{\"outlinewidth\":0,\"ticks\":\"\"}}}],\"scatterpolargl\":[{\"type\":\"scatterpolargl\",\"marker\":{\"colorbar\":{\"outlinewidth\":0,\"ticks\":\"\"}}}],\"bar\":[{\"error_x\":{\"color\":\"#2a3f5f\"},\"error_y\":{\"color\":\"#2a3f5f\"},\"marker\":{\"line\":{\"color\":\"#E5ECF6\",\"width\":0.5},\"pattern\":{\"fillmode\":\"overlay\",\"size\":10,\"solidity\":0.2}},\"type\":\"bar\"}],\"scattergeo\":[{\"type\":\"scattergeo\",\"marker\":{\"colorbar\":{\"outlinewidth\":0,\"ticks\":\"\"}}}],\"scatterpolar\":[{\"type\":\"scatterpolar\",\"marker\":{\"colorbar\":{\"outlinewidth\":0,\"ticks\":\"\"}}}],\"histogram\":[{\"marker\":{\"pattern\":{\"fillmode\":\"overlay\",\"size\":10,\"solidity\":0.2}},\"type\":\"histogram\"}],\"scattergl\":[{\"type\":\"scattergl\",\"marker\":{\"colorbar\":{\"outlinewidth\":0,\"ticks\":\"\"}}}],\"scatter3d\":[{\"type\":\"scatter3d\",\"line\":{\"colorbar\":{\"outlinewidth\":0,\"ticks\":\"\"}},\"marker\":{\"colorbar\":{\"outlinewidth\":0,\"ticks\":\"\"}}}],\"scattermapbox\":[{\"type\":\"scattermapbox\",\"marker\":{\"colorbar\":{\"outlinewidth\":0,\"ticks\":\"\"}}}],\"scatterternary\":[{\"type\":\"scatterternary\",\"marker\":{\"colorbar\":{\"outlinewidth\":0,\"ticks\":\"\"}}}],\"scattercarpet\":[{\"type\":\"scattercarpet\",\"marker\":{\"colorbar\":{\"outlinewidth\":0,\"ticks\":\"\"}}}],\"carpet\":[{\"aaxis\":{\"endlinecolor\":\"#2a3f5f\",\"gridcolor\":\"white\",\"linecolor\":\"white\",\"minorgridcolor\":\"white\",\"startlinecolor\":\"#2a3f5f\"},\"baxis\":{\"endlinecolor\":\"#2a3f5f\",\"gridcolor\":\"white\",\"linecolor\":\"white\",\"minorgridcolor\":\"white\",\"startlinecolor\":\"#2a3f5f\"},\"type\":\"carpet\"}],\"table\":[{\"cells\":{\"fill\":{\"color\":\"#EBF0F8\"},\"line\":{\"color\":\"white\"}},\"header\":{\"fill\":{\"color\":\"#C8D4E3\"},\"line\":{\"color\":\"white\"}},\"type\":\"table\"}],\"barpolar\":[{\"marker\":{\"line\":{\"color\":\"#E5ECF6\",\"width\":0.5},\"pattern\":{\"fillmode\":\"overlay\",\"size\":10,\"solidity\":0.2}},\"type\":\"barpolar\"}],\"pie\":[{\"automargin\":true,\"type\":\"pie\"}]},\"layout\":{\"autotypenumbers\":\"strict\",\"colorway\":[\"#636efa\",\"#EF553B\",\"#00cc96\",\"#ab63fa\",\"#FFA15A\",\"#19d3f3\",\"#FF6692\",\"#B6E880\",\"#FF97FF\",\"#FECB52\"],\"font\":{\"color\":\"#2a3f5f\"},\"hovermode\":\"closest\",\"hoverlabel\":{\"align\":\"left\"},\"paper_bgcolor\":\"white\",\"plot_bgcolor\":\"#E5ECF6\",\"polar\":{\"bgcolor\":\"#E5ECF6\",\"angularaxis\":{\"gridcolor\":\"white\",\"linecolor\":\"white\",\"ticks\":\"\"},\"radialaxis\":{\"gridcolor\":\"white\",\"linecolor\":\"white\",\"ticks\":\"\"}},\"ternary\":{\"bgcolor\":\"#E5ECF6\",\"aaxis\":{\"gridcolor\":\"white\",\"linecolor\":\"white\",\"ticks\":\"\"},\"baxis\":{\"gridcolor\":\"white\",\"linecolor\":\"white\",\"ticks\":\"\"},\"caxis\":{\"gridcolor\":\"white\",\"linecolor\":\"white\",\"ticks\":\"\"}},\"coloraxis\":{\"colorbar\":{\"outlinewidth\":0,\"ticks\":\"\"}},\"colorscale\":{\"sequential\":[[0.0,\"#0d0887\"],[0.1111111111111111,\"#46039f\"],[0.2222222222222222,\"#7201a8\"],[0.3333333333333333,\"#9c179e\"],[0.4444444444444444,\"#bd3786\"],[0.5555555555555556,\"#d8576b\"],[0.6666666666666666,\"#ed7953\"],[0.7777777777777778,\"#fb9f3a\"],[0.8888888888888888,\"#fdca26\"],[1.0,\"#f0f921\"]],\"sequentialminus\":[[0.0,\"#0d0887\"],[0.1111111111111111,\"#46039f\"],[0.2222222222222222,\"#7201a8\"],[0.3333333333333333,\"#9c179e\"],[0.4444444444444444,\"#bd3786\"],[0.5555555555555556,\"#d8576b\"],[0.6666666666666666,\"#ed7953\"],[0.7777777777777778,\"#fb9f3a\"],[0.8888888888888888,\"#fdca26\"],[1.0,\"#f0f921\"]],\"diverging\":[[0,\"#8e0152\"],[0.1,\"#c51b7d\"],[0.2,\"#de77ae\"],[0.3,\"#f1b6da\"],[0.4,\"#fde0ef\"],[0.5,\"#f7f7f7\"],[0.6,\"#e6f5d0\"],[0.7,\"#b8e186\"],[0.8,\"#7fbc41\"],[0.9,\"#4d9221\"],[1,\"#276419\"]]},\"xaxis\":{\"gridcolor\":\"white\",\"linecolor\":\"white\",\"ticks\":\"\",\"title\":{\"standoff\":15},\"zerolinecolor\":\"white\",\"automargin\":true,\"zerolinewidth\":2},\"yaxis\":{\"gridcolor\":\"white\",\"linecolor\":\"white\",\"ticks\":\"\",\"title\":{\"standoff\":15},\"zerolinecolor\":\"white\",\"automargin\":true,\"zerolinewidth\":2},\"scene\":{\"xaxis\":{\"backgroundcolor\":\"#E5ECF6\",\"gridcolor\":\"white\",\"linecolor\":\"white\",\"showbackground\":true,\"ticks\":\"\",\"zerolinecolor\":\"white\",\"gridwidth\":2},\"yaxis\":{\"backgroundcolor\":\"#E5ECF6\",\"gridcolor\":\"white\",\"linecolor\":\"white\",\"showbackground\":true,\"ticks\":\"\",\"zerolinecolor\":\"white\",\"gridwidth\":2},\"zaxis\":{\"backgroundcolor\":\"#E5ECF6\",\"gridcolor\":\"white\",\"linecolor\":\"white\",\"showbackground\":true,\"ticks\":\"\",\"zerolinecolor\":\"white\",\"gridwidth\":2}},\"shapedefaults\":{\"line\":{\"color\":\"#2a3f5f\"}},\"annotationdefaults\":{\"arrowcolor\":\"#2a3f5f\",\"arrowhead\":0,\"arrowwidth\":1},\"geo\":{\"bgcolor\":\"white\",\"landcolor\":\"#E5ECF6\",\"subunitcolor\":\"white\",\"showland\":true,\"showlakes\":true,\"lakecolor\":\"white\"},\"title\":{\"x\":0.05},\"mapbox\":{\"style\":\"light\"}}},\"xaxis\":{\"anchor\":\"y\",\"domain\":[0.0,1.0],\"title\":{\"text\":\"count\"}},\"yaxis\":{\"anchor\":\"x\",\"domain\":[0.0,1.0],\"title\":{\"text\":\"Spending Score (1-100)\"}},\"legend\":{\"title\":{\"text\":\"Annual Income (k$)\"},\"tracegroupgap\":0},\"margin\":{\"t\":60},\"barmode\":\"relative\"},                        {\"responsive\": true}                    ).then(function(){\n",
       "                            \n",
       "var gd = document.getElementById('30ff21d6-f5a6-4312-9f11-105e1d5cb84a');\n",
       "var x = new MutationObserver(function (mutations, observer) {{\n",
       "        var display = window.getComputedStyle(gd).display;\n",
       "        if (!display || display === 'none') {{\n",
       "            console.log([gd, 'removed!']);\n",
       "            Plotly.purge(gd);\n",
       "            observer.disconnect();\n",
       "        }}\n",
       "}});\n",
       "\n",
       "// Listen for the removal of the full notebook cells\n",
       "var notebookContainer = gd.closest('#notebook-container');\n",
       "if (notebookContainer) {{\n",
       "    x.observe(notebookContainer, {childList: true});\n",
       "}}\n",
       "\n",
       "// Listen for the clearing of the current output cell\n",
       "var outputEl = gd.closest('.output');\n",
       "if (outputEl) {{\n",
       "    x.observe(outputEl, {childList: true});\n",
       "}}\n",
       "\n",
       "                        })                };                });            </script>        </div>"
      ]
     },
     "metadata": {},
     "output_type": "display_data"
    }
   ],
   "source": [
    "px.histogram(df, y = 'Spending Score (1-100)', color = 'Annual Income (k$)')"
   ]
  },
  {
   "cell_type": "code",
   "execution_count": 22,
   "id": "d0e26a7f",
   "metadata": {},
   "outputs": [],
   "source": [
    "from numpy import unique\n",
    "from numpy import where\n",
    "data_x = df.iloc[:,[0,1]].values"
   ]
  },
  {
   "cell_type": "code",
   "execution_count": 23,
   "id": "44f10590",
   "metadata": {},
   "outputs": [],
   "source": [
    "model = DBSCAN(eps=0.7, min_samples=90)"
   ]
  },
  {
   "cell_type": "code",
   "execution_count": 24,
   "id": "ae41156b",
   "metadata": {},
   "outputs": [],
   "source": [
    "yhat = model.fit_predict(data_x)"
   ]
  },
  {
   "cell_type": "code",
   "execution_count": 25,
   "id": "e926167f",
   "metadata": {},
   "outputs": [],
   "source": [
    "clusters = unique(yhat)"
   ]
  },
  {
   "cell_type": "code",
   "execution_count": 31,
   "id": "d2467395",
   "metadata": {},
   "outputs": [
    {
     "data": {
      "image/png": "[encoded data removed]",
      "text/plain": [
       "<Figure size 432x288 with 1 Axes>"
      ]
     },
     "metadata": {
      "needs_background": "light"
     },
     "output_type": "display_data"
    }
   ],
   "source": [
    "for cluster in clusters:\n",
    "    row_ix = where(yhat == cluster)\n",
    "    plt.scatter(data_x[row_ix, 0], data_x[row_ix, 1], color = 'Orange')\n",
    "plt.show()"
   ]
  },
  {
   "cell_type": "code",
   "execution_count": null,
   "id": "b51e99e8",
   "metadata": {},
   "outputs": [],
   "source": []
  }
 ],
 "metadata": {
  "kernelspec": {
   "display_name": "Python 3",
   "language": "python",
   "name": "python3"
  },
  "language_info": {
   "codemirror_mode": {
    "name": "ipython",
    "version": 3
   },
   "file_extension": ".py",
   "mimetype": "text/x-python",
   "name": "python",
   "nbconvert_exporter": "python",
   "pygments_lexer": "ipython3",
   "version": "3.8.5"
  }
 },
 "nbformat": 4,
 "nbformat_minor": 5
}
